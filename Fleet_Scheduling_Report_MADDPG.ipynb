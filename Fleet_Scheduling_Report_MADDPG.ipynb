{
  "nbformat": 4,
  "nbformat_minor": 0,
  "metadata": {
    "colab": {
      "name": "Fleet_Scheduling_Report_MADDPG.ipynb",
      "provenance": [],
      "collapsed_sections": [
        "xNcUwydFGgAg",
        "PxNyfvi_5dQR",
        "IVjZpbiGGlQm",
        "lm_mQoGdGsVO",
        "Rx0JF_jyVJSH",
        "UZ1umWI_gcHD",
        "j5thjY-EJuji",
        "r_qCgpK_Jske",
        "5QQcTmq6i7-7",
        "ZlbCIncol-jl",
        "MIUkG-xXZ0Ah",
        "jeq7ZYl_l-js"
      ]
    },
    "kernelspec": {
      "name": "python3",
      "display_name": "Python 3"
    },
    "language_info": {
      "name": "python"
    },
    "accelerator": "GPU"
  },
  "cells": [
    {
      "cell_type": "markdown",
      "source": [
        "#Libraries"
      ],
      "metadata": {
        "id": "xNcUwydFGgAg"
      }
    },
    {
      "cell_type": "code",
      "source": [
        "import numpy as np\n",
        "import gym\n",
        "from gym import spaces\n",
        "import copy\n",
        "from copy import copy\n",
        "import matplotlib.pyplot as plt\n",
        "import gym\n",
        "from gym import spaces\n",
        "import copy\n",
        "from copy import copy\n",
        "import matplotlib.pyplot as plt\n",
        "from google.colab import widgets\n",
        "import time"
      ],
      "metadata": {
        "id": "QW3De0D7NW-B"
      },
      "execution_count": null,
      "outputs": []
    },
    {
      "cell_type": "code",
      "source": [
        "import os\n",
        "import torch\n",
        "import torch as T\n",
        "import torch.nn as nn\n",
        "import torch.nn.functional as F\n",
        "import torch.optim as optim"
      ],
      "metadata": {
        "id": "VjIiapVJGkYi"
      },
      "execution_count": null,
      "outputs": []
    },
    {
      "cell_type": "markdown",
      "source": [
        "#Required files"
      ],
      "metadata": {
        "id": "PxNyfvi_5dQR"
      }
    },
    {
      "cell_type": "code",
      "source": [
        "!git clone https://github.com/openai/multiagent-particle-envs.git"
      ],
      "metadata": {
        "colab": {
          "base_uri": "https://localhost:8080/"
        },
        "id": "xZQrgT6k5e6q",
        "outputId": "e4f4a7b5-fefc-4693-c16e-ad2d06b68eac"
      },
      "execution_count": null,
      "outputs": [
        {
          "output_type": "stream",
          "name": "stdout",
          "text": [
            "fatal: destination path 'multiagent-particle-envs' already exists and is not an empty directory.\n"
          ]
        }
      ]
    },
    {
      "cell_type": "code",
      "source": [
        "%pwd"
      ],
      "metadata": {
        "colab": {
          "base_uri": "https://localhost:8080/",
          "height": 36
        },
        "id": "bqGNVPTh8pnp",
        "outputId": "7051eb6f-c42f-40c9-fa83-0d30e92524ff"
      },
      "execution_count": null,
      "outputs": [
        {
          "output_type": "execute_result",
          "data": {
            "text/plain": [
              "'/content'"
            ],
            "application/vnd.google.colaboratory.intrinsic+json": {
              "type": "string"
            }
          },
          "metadata": {},
          "execution_count": 22
        }
      ]
    },
    {
      "cell_type": "code",
      "source": [
        "%cd /content/multiagent-particle-envs/"
      ],
      "metadata": {
        "colab": {
          "base_uri": "https://localhost:8080/"
        },
        "id": "6qyxkU0u9HOh",
        "outputId": "33524e51-9ac8-463b-a107-cc13cdcfdd40"
      },
      "execution_count": null,
      "outputs": [
        {
          "output_type": "stream",
          "name": "stdout",
          "text": [
            "/content/multiagent-particle-envs\n"
          ]
        }
      ]
    },
    {
      "cell_type": "code",
      "source": [
        "!pip install -e ."
      ],
      "metadata": {
        "colab": {
          "base_uri": "https://localhost:8080/"
        },
        "id": "wzEMOPVC7rAj",
        "outputId": "e53bf2e3-a358-4a09-e023-91fb7dc70ed8"
      },
      "execution_count": null,
      "outputs": [
        {
          "output_type": "stream",
          "name": "stdout",
          "text": [
            "Obtaining file:///content/multiagent-particle-envs\n",
            "Requirement already satisfied: gym in /usr/local/lib/python3.7/dist-packages (from multiagent==0.0.1) (0.10.5)\n",
            "Requirement already satisfied: numpy-stl in /usr/local/lib/python3.7/dist-packages (from multiagent==0.0.1) (2.16.3)\n",
            "Requirement already satisfied: numpy>=1.10.4 in /usr/local/lib/python3.7/dist-packages (from gym->multiagent==0.0.1) (1.21.6)\n",
            "Requirement already satisfied: six in /usr/local/lib/python3.7/dist-packages (from gym->multiagent==0.0.1) (1.15.0)\n",
            "Requirement already satisfied: pyglet>=1.2.0 in /usr/local/lib/python3.7/dist-packages (from gym->multiagent==0.0.1) (1.5.0)\n",
            "Requirement already satisfied: requests>=2.0 in /usr/local/lib/python3.7/dist-packages (from gym->multiagent==0.0.1) (2.23.0)\n",
            "Requirement already satisfied: future in /usr/local/lib/python3.7/dist-packages (from pyglet>=1.2.0->gym->multiagent==0.0.1) (0.16.0)\n",
            "Requirement already satisfied: chardet<4,>=3.0.2 in /usr/local/lib/python3.7/dist-packages (from requests>=2.0->gym->multiagent==0.0.1) (3.0.4)\n",
            "Requirement already satisfied: certifi>=2017.4.17 in /usr/local/lib/python3.7/dist-packages (from requests>=2.0->gym->multiagent==0.0.1) (2021.10.8)\n",
            "Requirement already satisfied: urllib3!=1.25.0,!=1.25.1,<1.26,>=1.21.1 in /usr/local/lib/python3.7/dist-packages (from requests>=2.0->gym->multiagent==0.0.1) (1.24.3)\n",
            "Requirement already satisfied: idna<3,>=2.5 in /usr/local/lib/python3.7/dist-packages (from requests>=2.0->gym->multiagent==0.0.1) (2.10)\n",
            "Requirement already satisfied: python-utils>=1.6.2 in /usr/local/lib/python3.7/dist-packages (from numpy-stl->multiagent==0.0.1) (3.1.0)\n",
            "Installing collected packages: multiagent\n",
            "  Attempting uninstall: multiagent\n",
            "    Found existing installation: multiagent 0.0.1\n",
            "    Can't uninstall 'multiagent'. No files were found to uninstall.\n",
            "  Running setup.py develop for multiagent\n",
            "Successfully installed multiagent-0.0.1\n"
          ]
        }
      ]
    },
    {
      "cell_type": "code",
      "source": [
        "!pip install torch==1.4.0\n",
        "!pip uninstall gym --y\n",
        "!pip install gym==0.10.5"
      ],
      "metadata": {
        "colab": {
          "base_uri": "https://localhost:8080/",
          "height": 692
        },
        "id": "nR5pMtMZ-hlD",
        "outputId": "c947438f-e903-4ad0-b6c4-7006346512cb"
      },
      "execution_count": null,
      "outputs": [
        {
          "output_type": "stream",
          "name": "stdout",
          "text": [
            "Collecting torch==1.4.0\n",
            "  Downloading torch-1.4.0-cp37-cp37m-manylinux1_x86_64.whl (753.4 MB)\n",
            "\u001b[K     |████████████████████████████████| 753.4 MB 6.7 kB/s \n",
            "\u001b[?25hInstalling collected packages: torch\n",
            "  Attempting uninstall: torch\n",
            "    Found existing installation: torch 1.11.0+cu113\n",
            "    Uninstalling torch-1.11.0+cu113:\n",
            "      Successfully uninstalled torch-1.11.0+cu113\n",
            "\u001b[31mERROR: pip's dependency resolver does not currently take into account all the packages that are installed. This behaviour is the source of the following dependency conflicts.\n",
            "torchvision 0.12.0+cu113 requires torch==1.11.0, but you have torch 1.4.0 which is incompatible.\n",
            "torchtext 0.12.0 requires torch==1.11.0, but you have torch 1.4.0 which is incompatible.\n",
            "torchaudio 0.11.0+cu113 requires torch==1.11.0, but you have torch 1.4.0 which is incompatible.\u001b[0m\n",
            "Successfully installed torch-1.4.0\n"
          ]
        },
        {
          "output_type": "display_data",
          "data": {
            "application/vnd.colab-display-data+json": {
              "pip_warning": {
                "packages": [
                  "torch"
                ]
              }
            }
          },
          "metadata": {}
        },
        {
          "output_type": "stream",
          "name": "stdout",
          "text": [
            "Found existing installation: gym 0.10.5\n",
            "Uninstalling gym-0.10.5:\n",
            "  Successfully uninstalled gym-0.10.5\n",
            "Collecting gym==0.10.5\n",
            "  Using cached gym-0.10.5-py3-none-any.whl\n",
            "Requirement already satisfied: pyglet>=1.2.0 in /usr/local/lib/python3.7/dist-packages (from gym==0.10.5) (1.5.0)\n",
            "Requirement already satisfied: numpy>=1.10.4 in /usr/local/lib/python3.7/dist-packages (from gym==0.10.5) (1.21.6)\n",
            "Requirement already satisfied: six in /usr/local/lib/python3.7/dist-packages (from gym==0.10.5) (1.15.0)\n",
            "Requirement already satisfied: requests>=2.0 in /usr/local/lib/python3.7/dist-packages (from gym==0.10.5) (2.23.0)\n",
            "Requirement already satisfied: future in /usr/local/lib/python3.7/dist-packages (from pyglet>=1.2.0->gym==0.10.5) (0.16.0)\n",
            "Requirement already satisfied: urllib3!=1.25.0,!=1.25.1,<1.26,>=1.21.1 in /usr/local/lib/python3.7/dist-packages (from requests>=2.0->gym==0.10.5) (1.24.3)\n",
            "Requirement already satisfied: chardet<4,>=3.0.2 in /usr/local/lib/python3.7/dist-packages (from requests>=2.0->gym==0.10.5) (3.0.4)\n",
            "Requirement already satisfied: idna<3,>=2.5 in /usr/local/lib/python3.7/dist-packages (from requests>=2.0->gym==0.10.5) (2.10)\n",
            "Requirement already satisfied: certifi>=2017.4.17 in /usr/local/lib/python3.7/dist-packages (from requests>=2.0->gym==0.10.5) (2021.10.8)\n",
            "Installing collected packages: gym\n",
            "Successfully installed gym-0.10.5\n"
          ]
        },
        {
          "output_type": "display_data",
          "data": {
            "application/vnd.colab-display-data+json": {
              "pip_warning": {
                "packages": [
                  "gym"
                ]
              }
            }
          },
          "metadata": {}
        }
      ]
    },
    {
      "cell_type": "code",
      "source": [
        "import torch\n",
        "torch.__version__"
      ],
      "metadata": {
        "colab": {
          "base_uri": "https://localhost:8080/",
          "height": 36
        },
        "id": "-5WcSWBlNJoz",
        "outputId": "a414c8e5-f01f-48a7-a135-30d535cd2671"
      },
      "execution_count": null,
      "outputs": [
        {
          "output_type": "execute_result",
          "data": {
            "text/plain": [
              "'1.11.0+cu113'"
            ],
            "application/vnd.google.colaboratory.intrinsic+json": {
              "type": "string"
            }
          },
          "metadata": {},
          "execution_count": 26
        }
      ]
    },
    {
      "cell_type": "markdown",
      "source": [
        "# 0. Basic Multiagent Grid world"
      ],
      "metadata": {
        "id": "IVjZpbiGGlQm"
      }
    },
    {
      "cell_type": "code",
      "source": [
        "class MAGridWorld(gym.Env):\n",
        "    \n",
        "    metadata = { 'render.modes' : ['human', 'rgb_array'] }\n",
        "        \n",
        "    def __init__(self, size, n_agents):\n",
        "        self.size = size\n",
        "        self._grid_size = (self.size, self.size)\n",
        "        self.world = np.zeros((self._grid_size))\n",
        "        self._timestep = None\n",
        "        self._max_timestep = int(self.size*4)\n",
        "        self.n_agents = n_agents\n",
        "        self.dist = int((self.size-1)/(n_agents-1))\n",
        "        self._step_cost = -0.1\n",
        "        self.observation_space = spaces.Box(low=0, high=self.size, shape=(self.size, self.size))\n",
        "        self.action_space = spaces.Discrete(5)\n",
        "\n",
        "    def reset(self):\n",
        "        self.agent_pos = []\n",
        "        self.goal_pos = []\n",
        "        self._timestep = 0\n",
        "        self.done = [False for i in range(self.n_agents)]\n",
        "        for i in range(self.n_agents):\n",
        "            self.agent_pos.append([self.size-1, i*self.dist])\n",
        "            self.goal_pos.append([0, i*self.dist])\n",
        "        self.goal_pos.reverse()\n",
        "        observation = self.agent_pos\n",
        "        return observation\n",
        "\n",
        "\n",
        "    def _compute_distance(self, x, y):\n",
        "        dist = np.abs(x[0]-y[0]) + np.abs(x[1]-y[1])\n",
        "        return dist\n",
        "\n",
        "\n",
        "    def _is_inside_grid(self, pos):\n",
        "        return (0 <= pos[0] < self._grid_size[0]) and (0 <= pos[1] < self._grid_size[1])\n",
        "\n",
        "\n",
        "    def _is_collision(self, new_pos, agent):\n",
        "        for i in range(self.n_agents):\n",
        "            if i == agent:\n",
        "                continue\n",
        "            elif new_pos == self.agent_pos[i]:\n",
        "                return True\n",
        "            elif new_pos == self.goal_pos[i]:\n",
        "                return True\n",
        "\n",
        "    def step(self, actions):\n",
        "\n",
        "        self._timestep += 1\n",
        "        old_pos = self.agent_pos.copy()\n",
        "        rewards = [0 for _ in range(self.n_agents)]\n",
        "\n",
        "        for i in range(self.n_agents):\n",
        "            self.update_agent_pos(i, actions[i])\n",
        "            old_dist = self._compute_distance(old_pos[i], self.goal_pos[i])\n",
        "            new_dist = self._compute_distance(self.agent_pos[i], self.goal_pos[i])\n",
        "            \n",
        "            if new_dist < old_dist:\n",
        "                rewards[i] = 1 #-1 worked\n",
        "            elif new_dist > old_dist:\n",
        "                rewards[i] = -3 #-2 worked\n",
        "\n",
        "            elif (new_dist == old_dist) and not self.done[i]:\n",
        "                rewards[i] = -5 #-2 worked\n",
        "            \n",
        "            if (self.agent_pos[i] == self.goal_pos[i]):\n",
        "                self.done[i] = True\n",
        "                rewards[i] = 100\n",
        "            else:\n",
        "                self.done[i] = False\n",
        "\n",
        "        if self._timestep >= self._max_timestep:\n",
        "            self.done = [True for i in range(self.n_agents)]\n",
        "            \n",
        "        observation = self.agent_pos\n",
        "        info = {}\n",
        "        return observation, rewards, self.done, info #all(done)\n",
        "\n",
        "\n",
        "\n",
        "    def update_agent_pos(self, agent, action):\n",
        "        next_pos = copy(self.agent_pos[agent])\n",
        "        if action == 0: # Down\n",
        "            next_pos[0] += 1\n",
        "        elif action == 1: # Up\n",
        "            next_pos[0] -= 1\n",
        "        elif action == 2: # Right\n",
        "            next_pos[1] += 1\n",
        "        elif action == 3: # Left\n",
        "            next_pos[1] -= 1\n",
        "        elif action == 4: # No move\n",
        "            pass\n",
        "        else:\n",
        "            raise Exception('Action is not valid')\n",
        "            \n",
        "        if self._is_inside_grid(next_pos) and not self._is_collision(next_pos, agent):\n",
        "            self.agent_pos[agent] = next_pos\n",
        "        else:\n",
        "            pass\n",
        "        \n",
        "\n",
        "    def render(self):\n",
        "        state = np.copy(self.world)\n",
        "        for i in range(self.n_agents):\n",
        "            state[tuple(self.agent_pos[i])] = 1 - (0.1 * i)\n",
        "            state[tuple(self.goal_pos[i])] = 1 - (0.1 * i)\n",
        "        return plt.imshow(state)"
      ],
      "metadata": {
        "id": "dSVdjU5xNbrq"
      },
      "execution_count": null,
      "outputs": []
    },
    {
      "cell_type": "code",
      "source": [
        "# env.reset()\n",
        "# env.render()"
      ],
      "metadata": {
        "colab": {
          "base_uri": "https://localhost:8080/",
          "height": 286
        },
        "id": "mEH3HVHIZgD4",
        "outputId": "f3066ed6-8977-43f9-fa7f-9b0fd18a3f87"
      },
      "execution_count": null,
      "outputs": [
        {
          "output_type": "execute_result",
          "data": {
            "text/plain": [
              "<matplotlib.image.AxesImage at 0x7f13b9b00ad0>"
            ]
          },
          "metadata": {},
          "execution_count": 98
        },
        {
          "output_type": "display_data",
          "data": {
            "text/plain": [
              "<Figure size 432x288 with 1 Axes>"
            ],
            "image/png": "[encoded data removed]"
          },
          "metadata": {
            "needs_background": "light"
          }
        }
      ]
    },
    {
      "cell_type": "markdown",
      "source": [
        "<h1>Multi-agent Environment</h1>"
      ],
      "metadata": {
        "id": "5zdi7Li3Y8jT"
      }
    },
    {
      "cell_type": "markdown",
      "source": [
        "![image.png](data:image/png;base64,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)"
      ],
      "metadata": {
        "id": "jy1f0rU1Y2Xn"
      }
    },
    {
      "cell_type": "markdown",
      "source": [
        "#1. Q-Learning on Multiagent"
      ],
      "metadata": {
        "id": "lm_mQoGdGsVO"
      }
    },
    {
      "cell_type": "code",
      "source": [
        "#Q-learning\n",
        "\n",
        "def q_learning(evaluation = False):\n",
        "  env = MAGridWorld(4, 2)\n",
        "  agent = RandomAgent(env)#creating a random agent to explore the given environments \n",
        "  obs = env.reset()#resets the environment to its initial configuration\n",
        "  \n",
        "  #Intialize parameters\n",
        "  learning_rate = 0.15 #alpha\n",
        "  discount_factor = 0.99 #how much weightage to put on future rewards\n",
        "  det_epsilon = 0.99 # For all states in deterministic environment p(s', r/s, a) = {0, 1}: Either action taken or No action taken\n",
        "\n",
        "\n",
        "  #Intial state\n",
        "  current_state = [0, 0] #s1\n",
        "  action_val = [0,1,2,3]\n",
        "\n",
        "  #Q table representing 16 rows: one for each state (i.e., 0,1,2,...15) -> (i.e., s1, s2, s3,....s16) and 4 columns: one for each action (i.e., 0,1,2,3) -> (down,up,right,left)\n",
        "  # (0-15, 0-3) remember the dimension is one less\n",
        "  q_tables = [np.zeros((16,4)), np.zeros((16,4))] \n",
        "\n",
        "\n",
        "  #mapping next_state co-ordinates to q_table co-ordinates\n",
        "  states = {(0,0): 0, (0,1): 1, (0,2): 2, (0,3): 3,\n",
        "                (1,0): 4, (1,1): 5, (1,2): 6, (1,3): 7,\n",
        "                (2,0): 8, (2,1): 9, (2,2): 10, (2,3): 11,\n",
        "                (3,0): 12, (3,1): 13, (3,2): 14, (3,3): 15} #16 states\n",
        "\n",
        "  #Empty lists to store values\n",
        " \n",
        "  epsilon_values = []\n",
        "  \n",
        "  total_episodes = 100000\n",
        "  epsilon = 1 #multiply by 0.995 for each episode(#after 20 iterations# or terminal state reached)\n",
        "  decay_factor = (0.01/1)**(1/total_episodes)\n",
        "  rewards_val = []\n",
        "  if evaluation == False:\n",
        "    for episode in range(1, total_episodes+1):\n",
        "      \n",
        "      obs = env.reset()\n",
        "      current_states = [0, 0]\n",
        "      total_rewards = [0, 0]\n",
        "      timestep = 0\n",
        "\n",
        "      agent1_new = []\n",
        "      agent2_new = []\n",
        "\n",
        "      while timestep < 20: #(i.e., considering untill the terminal is reached or 20 timesteps completed)\n",
        "      \n",
        "        actions = []\n",
        "        next_states = []\n",
        "        for agent in range(2):\n",
        "\n",
        "          #e - greedy algorithm\n",
        "          rand_num = np.random.random()\n",
        "          if epsilon > rand_num:\n",
        "            action = np.random.choice(action_val)\n",
        "          else:\n",
        "            action = np.argmax(q_tables[agent][current_states[agent]]) #action in current state s with max_q value\n",
        "          \n",
        "          actions.append(action)\n",
        "\n",
        "        #Taking the action\n",
        "        next_state_poss, rewards, done, _ = env.step(actions)\n",
        "\n",
        "        # print(\"Rewards: \", rewards)\n",
        "        for pos in next_state_poss:\n",
        "          next_states.append(states[tuple(pos)])\n",
        "\n",
        "\n",
        "        #Choosing action with max Q value\n",
        "        for agent in range(2):\n",
        "\n",
        "          max_q_action = np.argmax(q_tables[agent][next_states[agent]])\n",
        "\n",
        "          #Update function\n",
        "          # print(actions[agent])\n",
        "          q_tables[agent][current_states[agent]][actions[agent]] = q_tables[agent][current_states[agent]][actions[agent]] + learning_rate*(rewards[agent] + discount_factor*q_tables[agent][next_states[agent]][max_q_action] - q_tables[agent][current_states[agent]][actions[agent]])\n",
        "\n",
        "          total_rewards[agent] += rewards[agent]\n",
        "\n",
        "        agent1_new.append(next_states[0] + 1)\n",
        "        agent2_new.append(next_states[1] + 1)\n",
        "\n",
        "        current_states[0] = next_states[0] #next_state is assigned to current_state\n",
        "        current_states[1] = next_states[1]\n",
        "\n",
        "\n",
        "        if any(done) == True:\n",
        "          done[0] = False\n",
        "          done[1] = False\n",
        "          break\n",
        "\n",
        "\n",
        "      rewards_val.append(total_rewards)\n",
        "      epsilon_values.append(epsilon) #Append epsilon values in every episode\n",
        "      \n",
        "\n",
        "      if epsilon > 0.01: #keeping epsilon in [0.01 - 1] range as if it falls below 0.01 it will exploit more: choosing best actions. We want our agent to explore a bit: choosing random actions\n",
        "          epsilon = epsilon*decay_factor\n",
        "      else:\n",
        "          epsilon = 0.01\n",
        "\n",
        "\n",
        "      if (episode % 1000) == 0:\n",
        "        print(\"Episode: {}, epsilon: {}, rewards: {}\".format(episode, epsilon, rewards))\n",
        "        \n",
        "\n",
        "    #Plotting the results\n",
        "    #x, y co-ordinates\n",
        "    x = [episode for episode in range(1, total_episodes+1)]\n",
        "    ye = epsilon_values\n",
        "    yr1 = [rewards_val[episode][0] for episode in range(total_episodes)]\n",
        "    yr2 = [rewards_val[episode][1] for episode in range(total_episodes)]\n",
        "    # yr2 = total_rewards[1]\n",
        "\n",
        "    #Plots showing episodes vs epsilon, episodes vs rewards\n",
        "    fig, (ax1, ax2, ax3) = plt.subplots(1, 3, figsize=(10,4))\n",
        "    #episodes vs epsilon\n",
        "    ax1.plot(x, ye)\n",
        "    ax1.set_title(\"Epsilon decay\")\n",
        "\n",
        "    #episodes vs rewards\n",
        "    ax2.plot(x,yr1)\n",
        "    ax2.set_title(\"Agent1: Rewards per episode\")\n",
        "\n",
        "    #episodes vs rewards\n",
        "    ax3.plot(x,yr2)\n",
        "    ax3.set_title(\"Agent2: Rewards per episode\")\n",
        "\n",
        "  else:\n",
        "    eval_rewards_val = []\n",
        "\n",
        "    for i in range(10):\n",
        "      obs = env.reset()\n",
        "      current_states = [0, 0]\n",
        "      total_rewards = [0, 0]\n",
        "      timestep = 0\n",
        "      agent1_states = [13]\n",
        "      agent2_states = [16]\n",
        "\n",
        "      while timestep < 20: #(i.e., considering untill the terminal is reached or 20 timesteps completed)\n",
        "      \n",
        "        actions = []\n",
        "        next_states = []\n",
        "        \n",
        "        for agent in range(2):\n",
        "          action = np.argmax(q_tables[agent][current_states[agent]]) #action in current state s with max_q value\n",
        "          actions.append(action)\n",
        "\n",
        "        #Taking the action\n",
        "        next_state_poss, rewards, done, _ = env.step(actions)\n",
        "\n",
        "        # print(\"Rewards: \", rewards)\n",
        "        for pos in next_state_poss:\n",
        "          next_states.append(states[tuple(pos)])\n",
        "\n",
        "        #Choosing action with max Q value\n",
        "        for agent in range(2):\n",
        "\n",
        "          max_q_action = np.argmax(q_tables[agent][next_states[agent]])\n",
        "\n",
        "          #Update function\n",
        "          q_tables[agent][current_states[agent]][actions[agent]] = q_tables[agent][current_states[agent]][actions[agent]] + learning_rate*(rewards[agent] + discount_factor*q_tables[agent][next_states[agent]][max_q_action] - q_tables[agent][current_states[agent]][actions[agent]])\n",
        "\n",
        "          total_rewards[agent] += rewards[agent]\n",
        "        \n",
        "        agent1_states.append(next_states[0] + 1)\n",
        "        agent2_states.append(next_states[1] + 1)\n",
        "        current_states[0] = next_states[0] #next_state is assigned to current_state\n",
        "        current_states[1] = next_states[1]\n",
        "\n",
        "        if any(done) == True:\n",
        "          done[0] = False\n",
        "          done[1] = False\n",
        "          break   \n",
        "\n",
        "      eval_rewards_val.append(total_rewards)\n",
        "      env.render()\n",
        "      \n",
        "      # print(\"Evaluation rewards: \", eval_rewards_val)\n",
        "      print(\"Agent 1 route: \", agent1_states)\n",
        "      print(\"Agent 2 route: \", agent2_states) \n",
        "\n",
        "    #Plotting the results\n",
        "    #x, y co-ordinates\n",
        "    x = [episode for episode in range(1, 11)]\n",
        "    yr1 = [eval_rewards_val[episode][0] for episode in range(10)]\n",
        "    yr2 = [eval_rewards_val[episode][1] for episode in range(10)]\n",
        "    # yr2 = total_rewards[1]\n",
        "\n",
        "    #Plots showing episodes vs epsilon, episodes vs rewards\n",
        "    fig, (ax1, ax2) = plt.subplots(1, 2, figsize=(10,4))\n",
        "\n",
        "    #episodes vs rewards\n",
        "    ax1.plot(x,yr1)\n",
        "    ax1.set_title(\"Agent1: Rewards per episode\")\n",
        "\n",
        "    #episodes vs rewards\n",
        "    ax2.plot(x,yr2)\n",
        "    ax2.set_title(\"Agent2: Rewards per episode\")\n"
      ],
      "metadata": {
        "id": "CjXhhqZ4N0ok"
      },
      "execution_count": null,
      "outputs": []
    },
    {
      "cell_type": "code",
      "source": [
        "q_learning()"
      ],
      "metadata": {
        "colab": {
          "base_uri": "https://localhost:8080/",
          "height": 1000
        },
        "id": "5-E-phT0OcpB",
        "outputId": "3896de70-1fc4-40b6-b5bc-a5dab5f28ed9"
      },
      "execution_count": null,
      "outputs": [
        {
          "output_type": "stream",
          "name": "stdout",
          "text": [
            "\u001b[33mWARN: gym.spaces.Box autodetected dtype as <class 'numpy.float32'>. Please provide explicit dtype.\u001b[0m\n",
            "Episode: 1000, epsilon: 0.9549925860214311, rewards: [-3, -3]\n",
            "Episode: 2000, epsilon: 0.9120108393558993, rewards: [1, 100]\n",
            "Episode: 3000, epsilon: 0.8709635899560662, rewards: [1, 100]\n",
            "Episode: 4000, epsilon: 0.8317637711026543, rewards: [100, 1]\n",
            "Episode: 5000, epsilon: 0.7943282347242605, rewards: [-5, 1]\n",
            "Episode: 6000, epsilon: 0.7585775750291576, rewards: [1, 1]\n",
            "Episode: 7000, epsilon: 0.7244359600749617, rewards: [100, -3]\n",
            "Episode: 8000, epsilon: 0.691830970918906, rewards: [1, 1]\n",
            "Episode: 9000, epsilon: 0.6606934480075611, rewards: [1, 100]\n",
            "Episode: 10000, epsilon: 0.6309573444801552, rewards: [100, -3]\n",
            "Episode: 11000, epsilon: 0.6025595860743173, rewards: [-3, -3]\n",
            "Episode: 12000, epsilon: 0.5754399373371156, rewards: [100, 1]\n",
            "Episode: 13000, epsilon: 0.5495408738575812, rewards: [100, -3]\n",
            "Episode: 14000, epsilon: 0.5248074602497262, rewards: [-3, -3]\n",
            "Episode: 15000, epsilon: 0.501187233627224, rewards: [100, 1]\n",
            "Episode: 16000, epsilon: 0.4786300923225897, rewards: [1, 100]\n",
            "Episode: 17000, epsilon: 0.4570881896148248, rewards: [100, 1]\n",
            "Episode: 18000, epsilon: 0.43651583224011486, rewards: [100, 1]\n",
            "Episode: 19000, epsilon: 0.41686938347028474, rewards: [100, 1]\n",
            "Episode: 20000, epsilon: 0.3981071705534459, rewards: [100, 1]\n",
            "Episode: 21000, epsilon: 0.3801893963205099, rewards: [1, 100]\n",
            "Episode: 22000, epsilon: 0.3630780547700509, rewards: [100, -3]\n",
            "Episode: 23000, epsilon: 0.3467368504524807, rewards: [1, 100]\n",
            "Episode: 24000, epsilon: 0.331131121482541, rewards: [100, 1]\n",
            "Episode: 25000, epsilon: 0.3162277660167878, rewards: [100, 100]\n",
            "Episode: 26000, epsilon: 0.3019951720401521, rewards: [100, 100]\n",
            "Episode: 27000, epsilon: 0.2884031503126119, rewards: [100, 1]\n",
            "Episode: 28000, epsilon: 0.27542287033376833, rewards: [100, 1]\n",
            "Episode: 29000, epsilon: 0.2630267991894913, rewards: [1, 100]\n",
            "Episode: 30000, epsilon: 0.25118864315091083, rewards: [100, 100]\n",
            "Episode: 31000, epsilon: 0.2398832919019021, rewards: [1, 100]\n",
            "Episode: 32000, epsilon: 0.22908676527673089, rewards: [100, 1]\n",
            "Episode: 33000, epsilon: 0.21877616239490924, rewards: [100, 100]\n",
            "Episode: 34000, epsilon: 0.20892961308535896, rewards: [1, 100]\n",
            "Episode: 35000, epsilon: 0.19952623149684337, rewards: [100, -3]\n",
            "Episode: 36000, epsilon: 0.1905460717962809, rewards: [100, 1]\n",
            "Episode: 37000, epsilon: 0.18197008586095512, rewards: [100, 1]\n",
            "Episode: 38000, epsilon: 0.1737800828748951, rewards: [100, 100]\n",
            "Episode: 39000, epsilon: 0.16595869074371447, rewards: [100, 100]\n",
            "Episode: 40000, epsilon: 0.15848931924607074, rewards: [100, -3]\n",
            "Episode: 41000, epsilon: 0.15135612484358138, rewards: [100, 1]\n",
            "Episode: 42000, epsilon: 0.1445439770745543, rewards: [100, -3]\n",
            "Episode: 43000, epsilon: 0.13803842646025072, rewards: [100, 100]\n",
            "Episode: 44000, epsilon: 0.13182567385560343, rewards: [100, 1]\n",
            "Episode: 45000, epsilon: 0.12589254117937976, rewards: [100, 100]\n",
            "Episode: 46000, epsilon: 0.12022644346170508, rewards: [100, 1]\n",
            "Episode: 47000, epsilon: 0.11481536214965284, rewards: [100, 100]\n",
            "Episode: 48000, epsilon: 0.10964781961428373, rewards: [100, 100]\n",
            "Episode: 49000, epsilon: 0.10471285480505624, rewards: [-3, 100]\n",
            "Episode: 50000, epsilon: 0.099999999999967, rewards: [100, -5]\n",
            "Episode: 51000, epsilon: 0.09549925860211152, rewards: [100, 100]\n",
            "Episode: 52000, epsilon: 0.09120108393555976, rewards: [100, 100]\n",
            "Episode: 53000, epsilon: 0.08709635899557783, rewards: [-3, 100]\n",
            "Episode: 54000, epsilon: 0.08317637711023766, rewards: [100, 100]\n",
            "Episode: 55000, epsilon: 0.07943282347239933, rewards: [1, 100]\n",
            "Episode: 56000, epsilon: 0.07585775750289048, rewards: [1, 100]\n",
            "Episode: 57000, epsilon: 0.07244359600747205, rewards: [1, 100]\n",
            "Episode: 58000, epsilon: 0.06918309709186751, rewards: [100, 100]\n",
            "Episode: 59000, epsilon: 0.06606934480073433, rewards: [100, 1]\n",
            "Episode: 60000, epsilon: 0.0630957344479947, rewards: [100, 1]\n",
            "Episode: 61000, epsilon: 0.06025595860741198, rewards: [100, 100]\n",
            "Episode: 62000, epsilon: 0.05754399373369257, rewards: [100, 100]\n",
            "Episode: 63000, epsilon: 0.054954087385739994, rewards: [100, 100]\n",
            "Episode: 64000, epsilon: 0.05248074602495543, rewards: [100, 100]\n",
            "Episode: 65000, epsilon: 0.050118723362706015, rewards: [100, 1]\n",
            "Episode: 66000, epsilon: 0.04786300923224329, rewards: [100, 100]\n",
            "Episode: 67000, epsilon: 0.045708818961467654, rewards: [100, 100]\n",
            "Episode: 68000, epsilon: 0.0436515832239974, rewards: [100, 1]\n",
            "Episode: 69000, epsilon: 0.04168693834701493, rewards: [100, 100]\n",
            "Episode: 70000, epsilon: 0.039810717055331825, rewards: [100, 100]\n",
            "Episode: 71000, epsilon: 0.03801893963203882, rewards: [100, 100]\n",
            "Episode: 72000, epsilon: 0.036307805476993325, rewards: [100, 1]\n",
            "Episode: 73000, epsilon: 0.03467368504523696, rewards: [100, 100]\n",
            "Episode: 74000, epsilon: 0.033113112148243404, rewards: [100, 100]\n",
            "Episode: 75000, epsilon: 0.031622776601668574, rewards: [100, 100]\n",
            "Episode: 76000, epsilon: 0.03019951720400545, rewards: [100, 100]\n",
            "Episode: 77000, epsilon: 0.02884031503125182, rewards: [100, 100]\n",
            "Episode: 78000, epsilon: 0.027542287033367942, rewards: [100, 100]\n",
            "Episode: 79000, epsilon: 0.02630267991894055, rewards: [100, 100]\n",
            "Episode: 80000, epsilon: 0.025118864315082912, rewards: [100, 100]\n",
            "Episode: 81000, epsilon: 0.02398832919018242, rewards: [100, 100]\n",
            "Episode: 82000, epsilon: 0.022908676527665647, rewards: [100, 100]\n",
            "Episode: 83000, epsilon: 0.021877616239483883, rewards: [100, 100]\n",
            "Episode: 84000, epsilon: 0.02089296130852913, rewards: [100, 100]\n",
            "Episode: 85000, epsilon: 0.019952623149677932, rewards: [100, 100]\n",
            "Episode: 86000, epsilon: 0.019054607179621975, rewards: [100, 100]\n",
            "Episode: 87000, epsilon: 0.0181970085860897, rewards: [100, 100]\n",
            "Episode: 88000, epsilon: 0.01737800828748396, rewards: [100, 100]\n",
            "Episode: 89000, epsilon: 0.016595869074366176, rewards: [100, 100]\n",
            "Episode: 90000, epsilon: 0.015848931924601982, rewards: [100, 100]\n",
            "Episode: 91000, epsilon: 0.015135612484353238, rewards: [100, 100]\n",
            "Episode: 92000, epsilon: 0.014454397707450724, rewards: [100, 100]\n",
            "Episode: 93000, epsilon: 0.013803842646020591, rewards: [100, 100]\n",
            "Episode: 94000, epsilon: 0.013182567385556116, rewards: [1, 100]\n",
            "Episode: 95000, epsilon: 0.012589254117933992, rewards: [100, 100]\n",
            "Episode: 96000, epsilon: 0.01202264434616671, rewards: [100, 100]\n",
            "Episode: 97000, epsilon: 0.011481536214961669, rewards: [100, 100]\n",
            "Episode: 98000, epsilon: 0.010964781961424946, rewards: [100, 100]\n",
            "Episode: 99000, epsilon: 0.010471285480502347, rewards: [100, -3]\n",
            "Episode: 100000, epsilon: 0.009999999999993585, rewards: [100, 100]\n"
          ]
        },
        {
          "output_type": "display_data",
          "data": {
            "text/plain": [
              "<Figure size 720x288 with 3 Axes>"
            ],
            "image/png": "[encoded data removed]"
          },
          "metadata": {
            "needs_background": "light"
          }
        }
      ]
    },
    {
      "cell_type": "code",
      "source": [
        "q_learning(evaluation=True)"
      ],
      "metadata": {
        "colab": {
          "base_uri": "https://localhost:8080/",
          "height": 897
        },
        "id": "zSr47kef_-sb",
        "outputId": "007574ff-8e90-4993-8941-b3c2e250aa17"
      },
      "execution_count": null,
      "outputs": [
        {
          "output_type": "stream",
          "name": "stdout",
          "text": [
            "\u001b[33mWARN: gym.spaces.Box autodetected dtype as <class 'numpy.float32'>. Please provide explicit dtype.\u001b[0m\n",
            "Agent 1 route:  [13, 13, 13, 9, 13, 9, 5, 9, 5, 5, 6, 10, 14, 14, 10, 6, 2]\n",
            "Agent 2 route:  [16, 16, 16, 12, 16, 12, 8, 12, 8, 8, 8, 7, 11, 15, 15, 11, 7]\n",
            "Agent 1 route:  [13, 9, 5, 6, 2, 6, 2, 2, 2, 2, 6, 2, 6, 2, 2, 2, 2]\n",
            "Agent 2 route:  [16, 12, 8, 7, 3, 7, 3, 3, 3, 3, 7, 3, 3, 3, 3, 7, 3]\n",
            "Agent 1 route:  [13, 9, 5, 6, 2, 6, 2, 6, 2, 2, 2, 2, 6, 2, 6, 6, 5]\n",
            "Agent 2 route:  [16, 12, 8, 7, 3, 7, 3, 7, 3, 3, 3, 3, 7, 3, 7, 8, 7]\n",
            "Agent 1 route:  [13, 9, 5, 6, 2, 2, 2, 3, 7, 11, 15, 15, 11, 7, 3, 3]\n",
            "Agent 2 route:  [16, 12, 8, 7, 6, 10, 14, 14, 10, 6, 2, 6, 2, 2, 2, 1]\n",
            "Agent 1 route:  [13, 9, 5, 6, 2, 3, 4]\n",
            "Agent 2 route:  [16, 12, 8, 7, 6, 2, 1]\n",
            "Agent 1 route:  [13, 9, 5, 6, 2, 3, 4]\n",
            "Agent 2 route:  [16, 12, 8, 7, 6, 2, 1]\n",
            "Agent 1 route:  [13, 9, 5, 6, 2, 3, 4]\n",
            "Agent 2 route:  [16, 12, 8, 7, 6, 2, 1]\n",
            "Agent 1 route:  [13, 9, 5, 6, 2, 3, 4]\n",
            "Agent 2 route:  [16, 12, 8, 7, 6, 2, 1]\n",
            "Agent 1 route:  [13, 9, 5, 6, 2, 3, 4]\n",
            "Agent 2 route:  [16, 12, 8, 7, 6, 2, 1]\n",
            "Agent 1 route:  [13, 9, 5, 6, 2, 3, 4]\n",
            "Agent 2 route:  [16, 12, 8, 7, 6, 2, 1]\n"
          ]
        },
        {
          "output_type": "display_data",
          "data": {
            "text/plain": [
              "<Figure size 432x288 with 1 Axes>"
            ],
            "image/png": "[encoded data removed]"
          },
          "metadata": {
            "needs_background": "light"
          }
        },
        {
          "output_type": "display_data",
          "data": {
            "text/plain": [
              "<Figure size 720x288 with 2 Axes>"
            ],
            "image/png": "[encoded data removed]"
          },
          "metadata": {
            "needs_background": "light"
          }
        }
      ]
    },
    {
      "cell_type": "markdown",
      "source": [
        "#2. MADDPG on Grid world"
      ],
      "metadata": {
        "id": "Rx0JF_jyVJSH"
      }
    },
    {
      "cell_type": "markdown",
      "source": [
        "##Multi-agent grid world: More rewards setup"
      ],
      "metadata": {
        "id": "UZ1umWI_gcHD"
      }
    },
    {
      "cell_type": "code",
      "source": [
        "class MAalgo_MAGridWorld(gym.Env):\n",
        "    \n",
        "    metadata = { 'render.modes' : ['human', 'rgb_array'] }\n",
        "        \n",
        "    def __init__(self, size, n_agents):\n",
        "        self.size = size\n",
        "        self._grid_size = (self.size, self.size)\n",
        "        self.world = np.zeros((self._grid_size))\n",
        "        self._timestep = None\n",
        "        self._max_timestep = int(self.size*4)\n",
        "        self.n_agents = n_agents\n",
        "        self.dist = int((self.size-1)/(n_agents-1))\n",
        "        self._step_cost = -0.1\n",
        "        self.observation_space = spaces.Box(low=0, high=self.size, shape=(self.size, self.size))\n",
        "        self.action_space = spaces.Discrete(5)\n",
        "\n",
        "    def reset(self):\n",
        "        self.agent_pos = []\n",
        "        self.goal_pos = []\n",
        "        self._timestep = 0\n",
        "        self.done = [False for i in range(self.n_agents)]\n",
        "        for i in range(self.n_agents):\n",
        "            self.agent_pos.append([self.size-1, i*self.dist])\n",
        "            self.goal_pos.append([0, i*self.dist])\n",
        "        self.goal_pos.reverse()\n",
        "        observation = self.agent_pos\n",
        "        return observation\n",
        "\n",
        "\n",
        "    def _compute_distance(self, x, y):\n",
        "        dist = np.abs(x[0]-y[0]) + np.abs(x[1]-y[1])\n",
        "        return dist\n",
        "\n",
        "\n",
        "    def _is_inside_grid(self, pos):\n",
        "        return (0 <= pos[0] < self._grid_size[0]) and (0 <= pos[1] < self._grid_size[1])\n",
        "\n",
        "\n",
        "    def _is_collision(self, new_pos, agent):\n",
        "        for i in range(self.n_agents):\n",
        "            if i == agent:\n",
        "                continue\n",
        "            elif new_pos == self.agent_pos[i]:\n",
        "                return True\n",
        "            elif new_pos == self.goal_pos[i]:\n",
        "                return True\n",
        "\n",
        "    def step(self, actions):\n",
        "\n",
        "        self._timestep += 1\n",
        "        old_pos = self.agent_pos.copy()\n",
        "        rewards = [0 for _ in range(self.n_agents)]\n",
        "\n",
        "        for i in range(self.n_agents):\n",
        "            self.update_agent_pos(i, actions[i])\n",
        "            old_dist = self._compute_distance(old_pos[i], self.goal_pos[i])\n",
        "            new_dist = self._compute_distance(self.agent_pos[i], self.goal_pos[i])\n",
        "            \n",
        "            if new_dist < old_dist:\n",
        "              rewards[i] = 5 #-1 worked\n",
        "            elif new_dist > old_dist:\n",
        "              rewards[i] = -2 #-2 worked\n",
        "\n",
        "            elif (new_dist == old_dist) and not self.done[i]:\n",
        "              rewards[i] = -2 #-2 worked\n",
        "\n",
        "            if new_dist < 1.5:\n",
        "              rewards[i] += 25\n",
        "            \n",
        "            if (self.agent_pos[i] == self.goal_pos[i]):\n",
        "              self.done[i] = True\n",
        "              rewards[i] += 250\n",
        "            else:\n",
        "              self.done[i] = False\n",
        "              rewards[i] += -5\n",
        "\n",
        "        if self._timestep >= self._max_timestep:\n",
        "          self.done = [True for i in range(self.n_agents)]\n",
        "            \n",
        "        observation = self.agent_pos\n",
        "        info = {}\n",
        "        return observation, rewards, self.done, info #all(done)\n",
        "\n",
        "\n",
        "\n",
        "    def update_agent_pos(self, agent, action):\n",
        "        next_pos = copy(self.agent_pos[agent])\n",
        "        if action == 0: # Down\n",
        "            next_pos[0] += 1\n",
        "        elif action == 1: # Up\n",
        "            next_pos[0] -= 1\n",
        "        elif action == 2: # Right\n",
        "            next_pos[1] += 1\n",
        "        elif action == 3: # Left\n",
        "            next_pos[1] -= 1\n",
        "        elif action == 4: # No move\n",
        "            pass\n",
        "        else:\n",
        "            raise Exception('Action is not valid')\n",
        "            \n",
        "        if self._is_inside_grid(next_pos) and not self._is_collision(next_pos, agent):\n",
        "            self.agent_pos[agent] = next_pos\n",
        "        else:\n",
        "            pass\n",
        "        \n",
        "\n",
        "    def render(self):\n",
        "        state = np.copy(self.world)\n",
        "        for i in range(self.n_agents):\n",
        "            state[tuple(self.agent_pos[i])] = 1 - (0.1 * i)\n",
        "            state[tuple(self.goal_pos[i])] = 1 - (0.1 * i)\n",
        "        return plt.imshow(state)"
      ],
      "metadata": {
        "id": "E7iRMtzXVJSH"
      },
      "execution_count": null,
      "outputs": []
    },
    {
      "cell_type": "code",
      "source": [
        "class RandomAgent:\n",
        "    \n",
        "    def __init__(self, env):\n",
        "        self.env = env\n",
        "        self.observation_space = env.observation_space\n",
        "        self.action_space = env.action_space\n",
        "\n",
        "    def step(self, observation):\n",
        "        return np.random.choice(self.action_space.n)"
      ],
      "metadata": {
        "id": "euXmgd2RVJSI"
      },
      "execution_count": null,
      "outputs": []
    },
    {
      "cell_type": "markdown",
      "source": [
        ""
      ],
      "metadata": {
        "id": "JY9ODifXBlfY"
      }
    },
    {
      "cell_type": "code",
      "source": [
        ""
      ],
      "metadata": {
        "id": "RfjPsdCWZtXy"
      },
      "execution_count": null,
      "outputs": []
    },
    {
      "cell_type": "markdown",
      "metadata": {
        "id": "j5thjY-EJuji"
      },
      "source": [
        "##Networks"
      ]
    },
    {
      "cell_type": "code",
      "execution_count": null,
      "metadata": {
        "id": "jojFTJS3Jujj"
      },
      "outputs": [],
      "source": [
        "device = torch.device('cuda:0' if torch.cuda.is_available() else 'cpu')\n",
        "class MultiAgentReplayBuffer:\n",
        "\n",
        "    def __init__(self, size, c_dims, actor_dims, n_actions, n_agents, batch_size):\n",
        "        self.mem_size = size\n",
        "\n",
        "        self.n_agents = n_agents\n",
        "        self.actor_dims = actor_dims\n",
        "        self.batch_size = batch_size\n",
        "        self.memory_counter = 0\n",
        "\n",
        "        self.actor_states = []\n",
        "        self.actor_new_state_memory = []\n",
        "        self.actor_action_memory = []\n",
        "\n",
        "        # Init reward memory for all agents.\n",
        "        self.reward_memory = np.zeros((self.mem_size, n_agents))\n",
        "        self.terminal_memory = np.zeros((self.mem_size, n_agents), dtype=bool)\n",
        "\n",
        "        self.state_memory = np.zeros((self.mem_size, c_dims))\n",
        "        self.new_state_memory = np.zeros((self.mem_size, c_dims))\n",
        "      \n",
        "\n",
        "        for i in range(self.n_agents):\n",
        "            self.actor_states.append(np.zeros((self.mem_size, self.actor_dims[i])))\n",
        "            self.actor_new_state_memory.append(np.zeros((self.mem_size, self.actor_dims[i])))\n",
        "            self.actor_action_memory.append(np.zeros((self.mem_size, n_actions)))\n",
        "   \n",
        "\n",
        "    def store_transition(self, global_observation, state, action, reward, next_global_observation, state_, done):\n",
        "        \n",
        "        index = self.memory_counter % self.mem_size\n",
        "\n",
        "        # save global state as seen by critic in the buffer.\n",
        "\n",
        "        self.state_memory[index] = state\n",
        "        self.new_state_memory[index] = state_\n",
        "        self.reward_memory[index] = reward\n",
        "        self.terminal_memory[index] = done\n",
        "\n",
        "        # actor have local visibility. \n",
        "        for agent_idx in range(self.n_agents):\n",
        "            self.actor_states[agent_idx][index] = global_observation[agent_idx]\n",
        "            self.actor_new_state_memory[agent_idx][index] = next_global_observation[agent_idx]\n",
        "            self.actor_action_memory[agent_idx][index] = action[agent_idx]\n",
        "\n",
        "        self.memory_counter += 1\n",
        "\n",
        "    def get_stored_replay_batch(self):\n",
        "        max_mem = min(self.memory_counter, self.mem_size)\n",
        "\n",
        "        batch = np.random.choice(max_mem, self.batch_size, replace=False)\n",
        "\n",
        "        states = self.state_memory[batch]\n",
        "        rewards = self.reward_memory[batch]\n",
        "        states_ = self.new_state_memory[batch]\n",
        "        terminal = self.terminal_memory[batch]\n",
        "\n",
        "        actor_states = []\n",
        "        actor_new_states = []\n",
        "        actions = []\n",
        "        for agent_idx in range(self.n_agents):\n",
        "            actor_states.append(self.actor_states[agent_idx][batch])\n",
        "            actor_new_states.append(self.actor_new_state_memory[agent_idx][batch])\n",
        "            actions.append(self.actor_action_memory[agent_idx][batch])\n",
        "\n",
        "        return actor_states, states, actions, rewards, \\\n",
        "               actor_new_states, states_, terminal\n",
        "\n",
        "    def ready(self):\n",
        "        if self.memory_counter >= self.batch_size:\n",
        "            return True\n"
      ]
    },
    {
      "cell_type": "code",
      "execution_count": null,
      "metadata": {
        "id": "0QSdZmVtJujo"
      },
      "outputs": [],
      "source": [
        "\n",
        "class CriticNetwork(nn.Module):\n",
        "    def __init__(self, beta, input_dims, h1_size, h2_size, \n",
        "                    n_agents, n_actions, name):\n",
        "        super(CriticNetwork, self).__init__()\n",
        "\n",
        "        self.fc1 = nn.Linear(input_dims + n_agents*n_actions, h1_size)\n",
        "        self.fc2 = nn.Linear(h1_size, h2_size)\n",
        "        self.q = nn.Linear(h2_size, 1)\n",
        "\n",
        "        self.optimizer = optim.Adam(self.parameters(), lr=beta)\n",
        "        self.to(device)\n",
        "\n",
        "    def forward(self, state, action):\n",
        "        x = F.relu(self.fc1(torch.cat([state, action], dim=1)))\n",
        "        x = F.relu(self.fc2(x))\n",
        "        q = self.q(x)\n",
        "\n",
        "        return q\n",
        "\n",
        "class ActorNetwork(nn.Module):\n",
        "    def __init__(self, alpha, input_dims, h1_size, h2_size, n_actions, name):\n",
        "        super(ActorNetwork, self).__init__()\n",
        "        self.fc1 = nn.Linear(input_dims, h1_size)\n",
        "        self.fc2 = nn.Linear(h1_size, h2_size)\n",
        "        self.pi = nn.Linear(h2_size, n_actions)\n",
        "\n",
        "        self.optimizer = optim.Adam(self.parameters(), lr=alpha)\n",
        " \n",
        "        self.to(device)\n",
        "\n",
        "    def forward(self, state):\n",
        "        x = F.relu(self.fc1(state), inplace=False)\n",
        "        x = F.relu(self.fc2(x), inplace = False)\n",
        "        pi = torch.softmax(self.pi(x), dim=1)\n",
        "        return pi\n"
      ]
    },
    {
      "cell_type": "code",
      "execution_count": null,
      "metadata": {
        "id": "KawpsAT-Jujp"
      },
      "outputs": [],
      "source": [
        "\n",
        "class Agent:\n",
        "    def __init__(self, actor_dims, critic_dims, n_actions, n_agents, agent_idx,\n",
        "                    alpha=0.01, beta=0.01, fc1=64, \n",
        "                    fc2=64, gamma=0.95, tau=0.01):\n",
        "        self.gamma = gamma\n",
        "        self.tau = tau\n",
        "        self.n_actions = n_actions\n",
        "        self.agent_name = f'agent_{agent_idx}'\n",
        "        self.actor = ActorNetwork(alpha, actor_dims, fc1, fc2, n_actions,  name=self.agent_name+'_actor')\n",
        "        self.critic = CriticNetwork(beta, critic_dims, fc1, fc2, n_agents, n_actions, name=self.agent_name+'_critic')\n",
        "        self.target_actor = ActorNetwork(alpha, actor_dims, fc1, fc2, n_actions,name=self.agent_name+'_target_actor')\n",
        "        self.target_critic = CriticNetwork(beta, critic_dims,fc1, fc2, n_agents, n_actions,name=self.agent_name+'_target_critic')\n",
        "        self.update_network_parameters(tau=1)\n",
        "\n",
        "    def choose_action(self, observation):\n",
        "        state = torch.tensor([observation], dtype=torch.float).to(device)\n",
        "        actions = self.actor.forward(state).clone()\n",
        "        noise = torch.rand(self.n_actions).to(device)\n",
        "        action = actions + noise\n",
        "\n",
        "        return action.detach().cpu().numpy()[0]\n",
        "\n",
        "    def update_network_parameters(self, tau=None):\n",
        "        if tau is None:\n",
        "            tau = self.tau\n",
        "\n",
        "        target_actor_params = self.target_actor.named_parameters()\n",
        "        actor_params = self.actor.named_parameters()\n",
        "\n",
        "        target_actor_state_dict = dict(target_actor_params)\n",
        "        actor_state_dict = dict(actor_params)\n",
        "        for name in actor_state_dict:\n",
        "            actor_state_dict[name] = tau*actor_state_dict[name].clone() + (1-tau)*target_actor_state_dict[name].clone()\n",
        "\n",
        "        self.target_actor.load_state_dict(actor_state_dict)\n",
        "\n",
        "        critic_state_dict = dict(self.critic.named_parameters())\n",
        "        for name in critic_state_dict:\n",
        "            critic_state_dict[name] = tau*critic_state_dict[name].clone() + (1-tau)* dict(self.target_critic.named_parameters())[name].clone()\n",
        "\n",
        "        self.target_critic.load_state_dict(critic_state_dict)"
      ]
    },
    {
      "cell_type": "code",
      "execution_count": null,
      "metadata": {
        "id": "LT5K0PyIJujq"
      },
      "outputs": [],
      "source": [
        "class Grid_MADDPG:\n",
        "    def __init__(self, actor_dims, critic_dims, n_agents, n_actions,  alpha=0.01, beta=0.01, fc1=64, \n",
        "                 fc2=64, gamma=0.99, tau=0.01):\n",
        "        self.agents = []\n",
        "        self.n_agents = n_agents\n",
        "        self.n_actions = n_actions\n",
        "        for agent_idx in range(self.n_agents):\n",
        "            self.agents.append(Agent(actor_dims[agent_idx], critic_dims,  \n",
        "                            n_actions, n_agents, agent_idx, alpha=alpha, beta=beta))\n",
        "\n",
        "    def choose_action(self, raw_obs):\n",
        "        actions = []\n",
        "        for agent_idx, agent in enumerate(self.agents):\n",
        "            action = agent.choose_action(raw_obs[agent_idx])\n",
        "            actions.append(action)\n",
        "        return actions\n",
        "\n",
        "    def learn(self, memory):\n",
        "        if memory.memory_counter < memory.batch_size:\n",
        "            return\n",
        "        actor_states, states, actions, rewards, actor_new_states, states_, dones = memory.get_stored_replay_batch()\n",
        "\n",
        "        # send to gpu\n",
        "        states = torch.tensor(states, dtype=torch.float).to(device)\n",
        "        actions = torch.tensor(actions, dtype=torch.float).to(device)\n",
        "        rewards = torch.tensor(rewards, dtype=torch.float).to(device)\n",
        "        states_ = torch.tensor(states_, dtype=torch.float).to(device)\n",
        "        dones = torch.tensor(dones).to(device)\n",
        "\n",
        "        agents_new_actions = []\n",
        "        agents_new_c_actions = []\n",
        "        old_agents_actions = []\n",
        "\n",
        "        for agent_idx, agent in enumerate(self.agents):\n",
        "\n",
        "\n",
        "            new_states = torch.tensor(actor_new_states[agent_idx],  dtype=torch.float).to(device)\n",
        "            new_pi = agent.target_actor.forward(new_states)\n",
        "            agents_new_actions.append(new_pi)\n",
        "\n",
        "            mu_states = torch.tensor(actor_states[agent_idx], dtype=torch.float).to(device)\n",
        "            pi = agent.actor.forward(mu_states)\n",
        "            agents_new_c_actions.append(pi)\n",
        "            old_agents_actions.append(actions[agent_idx])\n",
        "\n",
        "        # Action vector for all agents.\n",
        "        new_actions = torch.cat([acts for acts in agents_new_actions], dim=1)\n",
        "        mu = torch.cat([acts for acts in agents_new_c_actions], dim=1)\n",
        "        old_actions = torch.cat([acts for acts in old_agents_actions],dim=1)\n",
        "        \n",
        "        \n",
        "        for agent_idx, agent in enumerate(self.agents):\n",
        "\n",
        "          # Optimizing the critic network of each agent.\n",
        "\n",
        "            critic_value_ = agent.target_critic.forward(states_, new_actions).flatten()\n",
        "            critic_value_[dones[:,0]] = 0.0\n",
        "            critic_value = agent.critic.forward(states, old_actions).flatten()\n",
        "\n",
        "            target = rewards[:,agent_idx] + agent.gamma * critic_value_\n",
        "            critic_loss = F.mse_loss(target, critic_value)\n",
        "            agent.critic.optimizer.zero_grad()\n",
        "            critic_loss.backward(retain_graph=True)\n",
        "            agent.critic.optimizer.step()\n",
        "\n",
        "            # Actor of each agent.\n",
        "            \n",
        "            actor_loss = agent.critic.forward(states, mu).flatten()\n",
        "            actor_loss = -torch.mean(actor_loss)\n",
        "\n",
        "            agent.actor.optimizer.zero_grad()\n",
        "            actor_loss.backward(retain_graph=True)\n",
        "            agent.actor.optimizer.step()\n",
        "\n",
        "            agent.update_network_parameters()"
      ]
    },
    {
      "cell_type": "code",
      "execution_count": null,
      "metadata": {
        "id": "nAJcRyENJrwe"
      },
      "outputs": [],
      "source": [
        ""
      ]
    },
    {
      "cell_type": "markdown",
      "source": [
        "##Call function "
      ],
      "metadata": {
        "id": "r_qCgpK_Jske"
      }
    },
    {
      "cell_type": "code",
      "source": [
        "from tensorflow.keras.utils import to_categorical\n",
        "def obs_list_to_state_vector(observation):\n",
        "    state = np.array([])\n",
        "    for obs in observation:\n",
        "        state = np.concatenate([state, obs])\n",
        "    return state\n",
        "\n",
        "states_map = {(0,0): 0, (0,1): 1, (0,2): 2, (0,3): 3,\n",
        "                  (1,0): 4, (1,1): 5, (1,2): 6, (1,3): 7,\n",
        "                  (2,0): 8, (2,1): 9, (2,2): 10, (2,3): 11,\n",
        "                  (3,0): 12, (3,1): 13, (3,2): 14, (3,3): 15}\n",
        "\n",
        "\n",
        "env = MAalgo_MAGridWorld(4, 2)\n",
        "obs = env.reset()\n",
        "print(\"Observation: \", env.observation_space)\n",
        "print(\"Actions: \", env.action_space)\n",
        "\n",
        "\n",
        "n_agents = 2\n",
        "actor_dims = []\n",
        "for i in range(n_agents):\n",
        "  actor_dims.append(16)\n",
        "critic_dims = sum(actor_dims)\n",
        "\n",
        "# action space is a list of arrays, assume each agent has same action space\n",
        "n_actions = 5\n",
        "maddpg_agents = Grid_MADDPG(actor_dims, critic_dims, n_agents, n_actions, \n",
        "                      fc1=64, fc2=64,  \n",
        "                      alpha=0.01, beta=0.01,\n",
        "                      chkpt_dir='tmp/maddpg_grid/')\n",
        "\n",
        "memory = MultiAgentReplayBuffer(10000, critic_dims, actor_dims, \n",
        "                  n_actions, n_agents, batch_size=64)\n",
        "\n",
        "total_episodes = 500\n",
        "epsilon = 1\n",
        "epsilon_decay = (0.001/1)**(1/total_episodes)\n",
        "rewards_val = []\n",
        "agent1_route = [[3,0]]\n",
        "agent2_route = [[3,3]]\n",
        "\n",
        "for episode in range(total_episodes):\n",
        "  obs = env.reset()\n",
        "  obs_new = []\n",
        "  total_steps = 0\n",
        "  for state in obs:\n",
        "    state = states_map[tuple(state)]\n",
        "    one_hot = to_categorical(state, 16)\n",
        "    obs_new.append(one_hot)\n",
        "  obs = obs_new\n",
        "  done = [False]*n_agents\n",
        "  total_rewards = [0, 0]\n",
        "\n",
        "  while not any(done) and total_steps < 20:\n",
        "      \n",
        "      #time.sleep(0.1) # to slow down the action for the video\n",
        "      # print(\"Grid w obs: \", obs)\n",
        "      \n",
        "      actions = maddpg_agents.choose_action(obs)\n",
        "      # print(\"action prob: \", actions)\n",
        "      actions_new = []\n",
        "\n",
        "      for action in actions:\n",
        "      \n",
        "        actions_new.append(np.argmax(action))\n",
        "\n",
        "        # actions_new.append(np.random.choice(5,1,p = action)[0])\n",
        "\n",
        "      # print(\"Actions_new\", actions_new)\n",
        "\n",
        "      obs_, reward, done, info = env.step(actions_new)\n",
        "\n",
        "      if episode == total_episodes - 1:\n",
        "        agent1_route.append(obs_[0])\n",
        "        agent2_route.append(obs_[1])\n",
        "        # print(\"Actions: \", actions)\n",
        "      \n",
        "      obs_new_ = []\n",
        "      for state in obs_:\n",
        "        state = states_map[tuple(state)]\n",
        "        one_hot = to_categorical(state, 16)\n",
        "        obs_new_.append(one_hot)\n",
        "      obs_ = obs_new_\n",
        "\n",
        "      state = obs_list_to_state_vector(obs)\n",
        "      state_ = obs_list_to_state_vector(obs_)\n",
        "\n",
        "      # if total_steps >= MAX_STEPS:\n",
        "      #     done = [True]*n_agents\n",
        "\n",
        "\n",
        "      memory.store_transition(obs, state, actions, reward, obs_, state_, done)\n",
        "\n",
        "      if total_steps % 2 == 0:\n",
        "        maddpg_agents.learn(memory)\n",
        "\n",
        "      obs = obs_\n",
        "      total_steps += 1\n",
        "\n",
        "      for agent in range(2):\n",
        "        total_rewards[agent] += reward[agent]\n",
        "\n",
        "  \n",
        "  if epsilon > 0.001:\n",
        "    epsilon *= epsilon_decay\n",
        "  else:\n",
        "    epsilon = 0.001\n",
        "      \n",
        "  rewards_val.append(total_rewards)\n",
        "    \n",
        "  #After every episode\n",
        "  # avg_reward = np.mean(rewards_val[-10:])\n",
        "  \n",
        "  if episode % (total_episodes // 10) == 0 and episode > 0:\n",
        "      print('Episode: {}, Individual Rewards: {}'.format(episode, total_rewards))\n",
        "      \n",
        "\n",
        "\n",
        "x = [episode for episode in range(1, total_episodes+1)]\n",
        "yr1 = [rewards_val[episode][0] for episode in range(total_episodes)]\n",
        "yr2 = [rewards_val[episode][1] for episode in range(total_episodes)]\n",
        "\n",
        "#Plots showing episodes vs epsilon, episodes vs rewards\n",
        "fig, (ax1, ax2) = plt.subplots(1, 2, figsize=(10,4))\n",
        "\n",
        "#episodes vs rewards\n",
        "ax1.plot(x,yr1)\n",
        "ax1.set_title(\"Agent1: Rewards per episode\")\n",
        "\n",
        "#episodes vs rewards\n",
        "ax2.plot(x,yr2)\n",
        "ax2.set_title(\"Agent2: Rewards per episode\")\n",
        "\n",
        "print(\"Agent1 Route: \", agent1_route)\n",
        "print(\"Agent2 Route: \", agent2_route)"
      ],
      "metadata": {
        "colab": {
          "base_uri": "https://localhost:8080/",
          "height": 544
        },
        "id": "WuS2c6quBozu",
        "outputId": "3ddb0610-171c-43f1-c1d1-71d5ee5f24b2"
      },
      "execution_count": null,
      "outputs": [
        {
          "output_type": "stream",
          "name": "stdout",
          "text": [
            "\u001b[33mWARN: gym.spaces.Box autodetected dtype as <class 'numpy.float32'>. Please provide explicit dtype.\u001b[0m\n",
            "Observation:  Box(4, 4)\n",
            "Actions:  Discrete(5)\n",
            "Episode: 50, Individual Rewards: [-98, -98]\n",
            "Episode: 100, Individual Rewards: [-98, -98]\n",
            "Episode: 150, Individual Rewards: [-98, -98]\n",
            "Episode: 200, Individual Rewards: [-98, -98]\n",
            "Episode: 250, Individual Rewards: [-98, -98]\n",
            "Episode: 300, Individual Rewards: [-98, -98]\n",
            "Episode: 350, Individual Rewards: [-98, -98]\n",
            "Episode: 400, Individual Rewards: [-98, -98]\n",
            "Episode: 450, Individual Rewards: [-98, -98]\n",
            "Agent1 Route:  [[3, 0], [2, 0], [1, 0], [1, 0], [1, 0], [1, 0], [1, 0], [1, 0], [1, 0], [1, 0], [1, 0], [1, 0], [1, 0], [1, 0], [1, 0], [1, 0], [1, 0]]\n",
            "Agent2 Route:  [[3, 3], [2, 3], [1, 3], [1, 3], [1, 3], [1, 3], [1, 3], [1, 3], [1, 3], [1, 3], [1, 3], [1, 3], [1, 3], [1, 3], [1, 3], [1, 3], [1, 3]]\n"
          ]
        },
        {
          "output_type": "display_data",
          "data": {
            "text/plain": [
              "<Figure size 720x288 with 2 Axes>"
            ],
            "image/png": "[encoded data removed]"
          },
          "metadata": {
            "needs_background": "light"
          }
        }
      ]
    },
    {
      "cell_type": "code",
      "source": [
        "env.render()"
      ],
      "metadata": {
        "id": "quxjvqEcQxUZ",
        "colab": {
          "base_uri": "https://localhost:8080/",
          "height": 286
        },
        "outputId": "888c4f80-2889-4882-cf26-415c90b3d763"
      },
      "execution_count": null,
      "outputs": [
        {
          "output_type": "execute_result",
          "data": {
            "text/plain": [
              "<matplotlib.image.AxesImage at 0x7ff4f962fdd0>"
            ]
          },
          "metadata": {},
          "execution_count": 12
        },
        {
          "output_type": "display_data",
          "data": {
            "text/plain": [
              "<Figure size 432x288 with 1 Axes>"
            ],
            "image/png": "[encoded data removed]"
          },
          "metadata": {
            "needs_background": "light"
          }
        }
      ]
    },
    {
      "cell_type": "markdown",
      "source": [
        "#3. Improved MADDPG on Grid World"
      ],
      "metadata": {
        "id": "5QQcTmq6i7-7"
      }
    },
    {
      "cell_type": "code",
      "source": [
        "from tensorflow.keras.utils import to_categorical\n",
        "def obs_list_to_state_vector(observation):\n",
        "    state = np.array([])\n",
        "    for obs in observation:\n",
        "        state = np.concatenate([state, obs])\n",
        "    return state\n",
        "\n",
        "states_map = {(0,0): 0, (0,1): 1, (0,2): 2, (0,3): 3,\n",
        "                  (1,0): 4, (1,1): 5, (1,2): 6, (1,3): 7,\n",
        "                  (2,0): 8, (2,1): 9, (2,2): 10, (2,3): 11,\n",
        "                  (3,0): 12, (3,1): 13, (3,2): 14, (3,3): 15}\n",
        "\n",
        "\n",
        "env = MAalgo_MAGridWorld(4, 2)\n",
        "obs = env.reset()\n",
        "print(\"Observation: \", env.observation_space)\n",
        "print(\"Actions: \", env.action_space)\n",
        "\n",
        "\n",
        "n_agents = 2\n",
        "actor_dims = []\n",
        "for i in range(n_agents):\n",
        "  actor_dims.append(16)\n",
        "critic_dims = sum(actor_dims)\n",
        "\n",
        "# action space is a list of arrays, assume each agent has same action space\n",
        "n_actions = 5\n",
        "maddpg_agents = Grid_MADDPG(actor_dims, critic_dims, n_agents, n_actions, \n",
        "                      fc1=64, fc2=64,  \n",
        "                      alpha=0.001, beta=0.001, gamma = 0.99)\n",
        "\n",
        "memory = MultiAgentReplayBuffer(10000, critic_dims, actor_dims, \n",
        "                  n_actions, n_agents, batch_size=128)\n",
        "\n",
        "total_episodes = 1000\n",
        "epsilon = 1\n",
        "epsilon_decay = (0.001/1)**(1/total_episodes)\n",
        "rewards_val = []\n",
        "agent1_route = [[3,0]]\n",
        "agent2_route = [[3,3]]\n",
        "\n",
        "for episode in range(total_episodes):\n",
        "  obs = env.reset()\n",
        "  obs_new = []\n",
        "  total_steps = 0\n",
        "  for state in obs:\n",
        "    state = states_map[tuple(state)]\n",
        "    one_hot = to_categorical(state, 16)\n",
        "    obs_new.append(one_hot)\n",
        "  obs = obs_new\n",
        "  done = [False]*n_agents\n",
        "  total_rewards = [0, 0]\n",
        "\n",
        "  while not any(done) and total_steps < 20:\n",
        "      \n",
        "      #time.sleep(0.1) # to slow down the action for the video\n",
        "      # print(\"Grid w obs: \", obs)\n",
        "      \n",
        "      actions = maddpg_agents.choose_action(obs)\n",
        "      # print(\"action prob: \", actions)\n",
        "      actions_new = []\n",
        "\n",
        "      for action in actions:\n",
        "        rand_num = np.random.random()\n",
        "        if epsilon > rand_num:\n",
        "          actions_new.append(np.random.choice(5))\n",
        "          # print(actions_new)\n",
        "        else:\n",
        "          actions_new.append(np.argmax(action))\n",
        "\n",
        "        # actions_new.append(np.random.choice(5,1,p = action)[0])\n",
        "\n",
        "      # print(\"Actions_new\", actions_new)\n",
        "\n",
        "      obs_, reward, done, info = env.step(actions_new)\n",
        "\n",
        "      if episode == total_episodes - 1:\n",
        "        agent1_route.append(obs_[0])\n",
        "        agent2_route.append(obs_[1])\n",
        "        # print(\"Actions: \", actions)\n",
        "      \n",
        "      obs_new_ = []\n",
        "      for state in obs_:\n",
        "        state = states_map[tuple(state)]\n",
        "        one_hot = to_categorical(state, 16)\n",
        "        obs_new_.append(one_hot)\n",
        "      obs_ = obs_new_\n",
        "\n",
        "      state = obs_list_to_state_vector(obs)\n",
        "      state_ = obs_list_to_state_vector(obs_)\n",
        "\n",
        "      # if total_steps >= MAX_STEPS:\n",
        "      #     done = [True]*n_agents\n",
        "\n",
        "      # print(reward)\n",
        "\n",
        "      # if reward[0] > 10:\n",
        "      #   reward[0] += 50\n",
        "\n",
        "\n",
        "      memory.store_transition(obs, state, actions, reward, obs_, state_, done)\n",
        "\n",
        "      if total_steps % 2 == 0:\n",
        "        maddpg_agents.learn(memory)\n",
        "\n",
        "      obs = obs_\n",
        "      total_steps += 1\n",
        "\n",
        "      for agent in range(2):\n",
        "        total_rewards[agent] += reward[agent]\n",
        "\n",
        "  \n",
        "  if epsilon > 0.01:\n",
        "    epsilon *= epsilon_decay\n",
        "  else:\n",
        "    epsilon = 0.01\n",
        "      \n",
        "  rewards_val.append(total_rewards)\n",
        "    \n",
        "  #After every episode\n",
        "  # avg_reward = np.mean(rewards_val[-10:])\n",
        "  \n",
        "  if episode % (total_episodes // 10) == 0 and episode > 0:\n",
        "      print('Episode: {}, Individual Rewards: {}'.format(episode, total_rewards))\n",
        "      \n",
        "\n",
        "\n",
        "x = [episode for episode in range(1, total_episodes+1)]\n",
        "yr1 = [rewards_val[episode][0] for episode in range(total_episodes)]\n",
        "yr2 = [rewards_val[episode][1] for episode in range(total_episodes)]\n",
        "\n",
        "#Plots showing episodes vs epsilon, episodes vs rewards\n",
        "fig, (ax1, ax2) = plt.subplots(1, 2, figsize=(10,4))\n",
        "\n",
        "#episodes vs rewards\n",
        "ax1.plot(x,yr1)\n",
        "ax1.set_title(\"Agent1: Rewards per episode\")\n",
        "\n",
        "#episodes vs rewards\n",
        "ax2.plot(x,yr2)\n",
        "ax2.set_title(\"Agent2: Rewards per episode\")\n",
        "\n",
        "print(\"Agent1 Route: \", agent1_route)\n",
        "print(\"Agent2 Route: \", agent2_route)"
      ],
      "metadata": {
        "colab": {
          "base_uri": "https://localhost:8080/",
          "height": 524
        },
        "outputId": "2d6bf35a-daba-4e23-ec09-e22f977c3dc8",
        "id": "IfGBaLA-i7-8"
      },
      "execution_count": null,
      "outputs": [
        {
          "output_type": "stream",
          "name": "stdout",
          "text": [
            "\u001b[33mWARN: gym.spaces.Box autodetected dtype as <class 'numpy.float32'>. Please provide explicit dtype.\u001b[0m\n",
            "Observation:  Box(4, 4)\n",
            "Actions:  Discrete(5)\n",
            "Episode: 100, Individual Rewards: [-77, -77]\n",
            "Episode: 200, Individual Rewards: [133, 327]\n",
            "Episode: 300, Individual Rewards: [-70, 270]\n",
            "Episode: 400, Individual Rewards: [-21, 305]\n",
            "Episode: 500, Individual Rewards: [298, 298]\n",
            "Episode: 600, Individual Rewards: [305, 305]\n",
            "Episode: 700, Individual Rewards: [298, 298]\n",
            "Episode: 800, Individual Rewards: [305, 18]\n",
            "Episode: 900, Individual Rewards: [305, 305]\n",
            "Agent1 Route:  [[3, 0], [2, 0], [2, 1], [1, 1], [0, 1], [0, 2], [0, 3]]\n",
            "Agent2 Route:  [[3, 3], [3, 2], [3, 1], [2, 1], [1, 1], [0, 1], [0, 0]]\n"
          ]
        },
        {
          "output_type": "display_data",
          "data": {
            "text/plain": [
              "<Figure size 720x288 with 2 Axes>"
            ],
            "image/png": "[encoded data removed]"
          },
          "metadata": {
            "needs_background": "light"
          }
        }
      ]
    },
    {
      "cell_type": "code",
      "source": [
        "env.render()"
      ],
      "metadata": {
        "colab": {
          "base_uri": "https://localhost:8080/",
          "height": 286
        },
        "outputId": "d58a8742-fbf1-4079-d4fd-d7995b12c8e9",
        "id": "xnL4AYaDi7--"
      },
      "execution_count": null,
      "outputs": [
        {
          "output_type": "execute_result",
          "data": {
            "text/plain": [
              "<matplotlib.image.AxesImage at 0x7fea734fe150>"
            ]
          },
          "metadata": {},
          "execution_count": 19
        },
        {
          "output_type": "display_data",
          "data": {
            "text/plain": [
              "<Figure size 432x288 with 1 Axes>"
            ],
            "image/png": "[encoded data removed]"
          },
          "metadata": {
            "needs_background": "light"
          }
        }
      ]
    },
    {
      "cell_type": "code",
      "source": [
        ""
      ],
      "metadata": {
        "id": "oslU4wq3i7-_"
      },
      "execution_count": null,
      "outputs": []
    },
    {
      "cell_type": "markdown",
      "source": [
        "#4. MADPPG on Simple Adversary"
      ],
      "metadata": {
        "id": "ZlbCIncol-jl"
      }
    },
    {
      "cell_type": "markdown",
      "metadata": {
        "id": "MIUkG-xXZ0Ah"
      },
      "source": [
        "##Networks"
      ]
    },
    {
      "cell_type": "code",
      "execution_count": null,
      "metadata": {
        "id": "8JVMlu-BZ0Ai"
      },
      "outputs": [],
      "source": [
        "\n",
        "class MultiAgentReplayBuffer:\n",
        "\n",
        "    def __init__(self, size, c_dims, actor_dims, n_actions, n_agents, batch_size):\n",
        "        self.mem_size = size\n",
        "\n",
        "        self.n_agents = n_agents\n",
        "        self.actor_dims = actor_dims\n",
        "        self.batch_size = batch_size\n",
        "        self.memory_counter = 0\n",
        "\n",
        "        self.actor_states = []\n",
        "        self.actor_new_state_memory = []\n",
        "        self.actor_action_memory = []\n",
        "\n",
        "        # Init reward memory for all agents.\n",
        "        self.reward_memory = np.zeros((self.mem_size, n_agents))\n",
        "        self.terminal_memory = np.zeros((self.mem_size, n_agents), dtype=bool)\n",
        "\n",
        "        self.state_memory = np.zeros((self.mem_size, c_dims))\n",
        "        self.new_state_memory = np.zeros((self.mem_size, c_dims))\n",
        "      \n",
        "\n",
        "        for i in range(self.n_agents):\n",
        "            self.actor_states.append(np.zeros((self.mem_size, self.actor_dims[i])))\n",
        "            self.actor_new_state_memory.append(np.zeros((self.mem_size, self.actor_dims[i])))\n",
        "            self.actor_action_memory.append(np.zeros((self.mem_size, n_actions)))\n",
        "   \n",
        "\n",
        "    def store_transition(self, global_observation, state, action, reward, next_global_observation, state_, done):\n",
        "        \n",
        "        index = self.memory_counter % self.mem_size\n",
        "\n",
        "        # save global state as seen by critic in the buffer.\n",
        "\n",
        "        self.state_memory[index] = state\n",
        "        self.new_state_memory[index] = state_\n",
        "        self.reward_memory[index] = reward\n",
        "        self.terminal_memory[index] = done\n",
        "\n",
        "        # actor have local visibility. \n",
        "        for agent_idx in range(self.n_agents):\n",
        "            self.actor_states[agent_idx][index] = global_observation[agent_idx]\n",
        "            self.actor_new_state_memory[agent_idx][index] = next_global_observation[agent_idx]\n",
        "            self.actor_action_memory[agent_idx][index] = action[agent_idx]\n",
        "\n",
        "        self.memory_counter += 1\n",
        "\n",
        "    def get_stored_replay_batch(self):\n",
        "        max_mem = min(self.memory_counter, self.mem_size)\n",
        "\n",
        "        batch = np.random.choice(max_mem, self.batch_size, replace=False)\n",
        "\n",
        "        states = self.state_memory[batch]\n",
        "        rewards = self.reward_memory[batch]\n",
        "        states_ = self.new_state_memory[batch]\n",
        "        terminal = self.terminal_memory[batch]\n",
        "\n",
        "        actor_states = []\n",
        "        actor_new_states = []\n",
        "        actions = []\n",
        "        for agent_idx in range(self.n_agents):\n",
        "            actor_states.append(self.actor_states[agent_idx][batch])\n",
        "            actor_new_states.append(self.actor_new_state_memory[agent_idx][batch])\n",
        "            actions.append(self.actor_action_memory[agent_idx][batch])\n",
        "\n",
        "        return actor_states, states, actions, rewards, \\\n",
        "               actor_new_states, states_, terminal\n",
        "\n",
        "    def ready(self):\n",
        "        if self.memory_counter >= self.batch_size:\n",
        "            return True\n"
      ]
    },
    {
      "cell_type": "code",
      "execution_count": null,
      "metadata": {
        "id": "ZKk4MW-HZ0Ai"
      },
      "outputs": [],
      "source": [
        "\n",
        "class CriticNetwork(nn.Module):\n",
        "    def __init__(self, beta, input_dims, h1_size, h2_size, \n",
        "                    n_agents, n_actions, name):\n",
        "        super(CriticNetwork, self).__init__()\n",
        "\n",
        "        self.fc1 = nn.Linear(input_dims + n_agents*n_actions, h1_size)\n",
        "        self.fc2 = nn.Linear(h1_size, h2_size)\n",
        "        self.q = nn.Linear(h2_size, 1)\n",
        "\n",
        "        self.optimizer = optim.Adam(self.parameters(), lr=beta)\n",
        "        self.to(device)\n",
        "\n",
        "    def forward(self, state, action):\n",
        "        x = F.relu(self.fc1(torch.cat([state, action], dim=1)))\n",
        "        x = F.relu(self.fc2(x))\n",
        "        q = self.q(x)\n",
        "\n",
        "        return q\n",
        "\n",
        "class ActorNetwork(nn.Module):\n",
        "    def __init__(self, alpha, input_dims, h1_size, h2_size, n_actions, name):\n",
        "        super(ActorNetwork, self).__init__()\n",
        "        self.fc1 = nn.Linear(input_dims, h1_size)\n",
        "        self.fc2 = nn.Linear(h1_size, h2_size)\n",
        "        self.pi = nn.Linear(h2_size, n_actions)\n",
        "\n",
        "        self.optimizer = optim.Adam(self.parameters(), lr=alpha)\n",
        " \n",
        "        self.to(device)\n",
        "\n",
        "    def forward(self, state):\n",
        "        x = F.relu(self.fc1(state), inplace=False)\n",
        "        x = F.relu(self.fc2(x), inplace = False)\n",
        "        pi = torch.softmax(self.pi(x), dim=1)\n",
        "        return pi\n"
      ]
    },
    {
      "cell_type": "code",
      "execution_count": null,
      "metadata": {
        "id": "DC02N-BmZ0Ai"
      },
      "outputs": [],
      "source": [
        "\n",
        "class Agent:\n",
        "    def __init__(self, actor_dims, critic_dims, n_actions, n_agents, agent_idx,\n",
        "                    alpha=0.01, beta=0.01, fc1=64, \n",
        "                    fc2=64, gamma=0.95, tau=0.01):\n",
        "        self.gamma = gamma\n",
        "        self.tau = tau\n",
        "        self.n_actions = n_actions\n",
        "        self.agent_name = f'agent_{agent_idx}'\n",
        "        self.actor = ActorNetwork(alpha, actor_dims, fc1, fc2, n_actions,  name=self.agent_name+'_actor')\n",
        "        self.critic = CriticNetwork(beta, critic_dims, fc1, fc2, n_agents, n_actions, name=self.agent_name+'_critic')\n",
        "        self.target_actor = ActorNetwork(alpha, actor_dims, fc1, fc2, n_actions,name=self.agent_name+'_target_actor')\n",
        "        self.target_critic = CriticNetwork(beta, critic_dims,fc1, fc2, n_agents, n_actions,name=self.agent_name+'_target_critic')\n",
        "        self.update_network_parameters(tau=1)\n",
        "\n",
        "    def choose_action(self, observation):\n",
        "        state = torch.tensor([observation], dtype=torch.float).to(device)\n",
        "        actions = self.actor.forward(state).clone()\n",
        "        noise = torch.rand(self.n_actions).to(device)\n",
        "        action = actions + noise\n",
        "\n",
        "        return action.detach().cpu().numpy()[0]\n",
        "\n",
        "    def update_network_parameters(self, tau=None):\n",
        "        if tau is None:\n",
        "            tau = self.tau\n",
        "\n",
        "        target_actor_params = self.target_actor.named_parameters()\n",
        "        actor_params = self.actor.named_parameters()\n",
        "\n",
        "        target_actor_state_dict = dict(target_actor_params)\n",
        "        actor_state_dict = dict(actor_params)\n",
        "        for name in actor_state_dict:\n",
        "            actor_state_dict[name] = tau*actor_state_dict[name].clone() + (1-tau)*target_actor_state_dict[name].clone()\n",
        "\n",
        "        self.target_actor.load_state_dict(actor_state_dict)\n",
        "\n",
        "        critic_state_dict = dict(self.critic.named_parameters())\n",
        "        for name in critic_state_dict:\n",
        "            critic_state_dict[name] = tau*critic_state_dict[name].clone() + (1-tau)* dict(self.target_critic.named_parameters())[name].clone()\n",
        "\n",
        "        self.target_critic.load_state_dict(critic_state_dict)"
      ]
    },
    {
      "cell_type": "code",
      "execution_count": null,
      "metadata": {
        "id": "0F1hTShnZ0Ai"
      },
      "outputs": [],
      "source": [
        "class MADDPG:\n",
        "    def __init__(self, actor_dims, critic_dims, n_agents, n_actions,  alpha=0.01, beta=0.01, fc1=64, \n",
        "                 fc2=64, gamma=0.99, tau=0.01):\n",
        "        self.agents = []\n",
        "        self.n_agents = n_agents\n",
        "        self.n_actions = n_actions\n",
        "        for agent_idx in range(self.n_agents):\n",
        "            self.agents.append(Agent(actor_dims[agent_idx], critic_dims,  \n",
        "                            n_actions, n_agents, agent_idx, alpha=alpha, beta=beta))\n",
        "\n",
        "    def choose_action(self, raw_obs):\n",
        "        actions = []\n",
        "        for agent_idx, agent in enumerate(self.agents):\n",
        "            action = agent.choose_action(raw_obs[agent_idx])\n",
        "            actions.append(action)\n",
        "        return actions\n",
        "\n",
        "    def learn(self, memory):\n",
        "        if memory.memory_counter < memory.batch_size:\n",
        "            return\n",
        "        actor_states, states, actions, rewards, actor_new_states, states_, dones = memory.get_stored_replay_batch()\n",
        "\n",
        "        # send to gpu\n",
        "        states = torch.tensor(states, dtype=torch.float).to(device)\n",
        "        actions = torch.tensor(actions, dtype=torch.float).to(device)\n",
        "        rewards = torch.tensor(rewards, dtype=torch.float).to(device)\n",
        "        states_ = torch.tensor(states_, dtype=torch.float).to(device)\n",
        "        dones = torch.tensor(dones).to(device)\n",
        "\n",
        "        agents_new_actions = []\n",
        "        agents_new_c_actions = []\n",
        "        old_agents_actions = []\n",
        "\n",
        "        for agent_idx, agent in enumerate(self.agents):\n",
        "\n",
        "\n",
        "            new_states = torch.tensor(actor_new_states[agent_idx],  dtype=torch.float).to(device)\n",
        "            new_pi = agent.target_actor.forward(new_states)\n",
        "            agents_new_actions.append(new_pi)\n",
        "\n",
        "            mu_states = torch.tensor(actor_states[agent_idx], dtype=torch.float).to(device)\n",
        "            pi = agent.actor.forward(mu_states)\n",
        "            agents_new_c_actions.append(pi)\n",
        "            old_agents_actions.append(actions[agent_idx])\n",
        "\n",
        "        # Action vector for all agents.\n",
        "        new_actions = torch.cat([acts for acts in agents_new_actions], dim=1)\n",
        "        mu = torch.cat([acts for acts in agents_new_c_actions], dim=1)\n",
        "        old_actions = torch.cat([acts for acts in old_agents_actions],dim=1)\n",
        "        \n",
        "        \n",
        "        for agent_idx, agent in enumerate(self.agents):\n",
        "\n",
        "          # Optimizing the critic network of each agent.\n",
        "\n",
        "            critic_value_ = agent.target_critic.forward(states_, new_actions).flatten()\n",
        "            critic_value_[dones[:,0]] = 0.0\n",
        "            critic_value = agent.critic.forward(states, old_actions).flatten()\n",
        "\n",
        "            target = rewards[:,agent_idx] + agent.gamma * critic_value_\n",
        "            critic_loss = F.mse_loss(target, critic_value)\n",
        "            agent.critic.optimizer.zero_grad()\n",
        "            critic_loss.backward(retain_graph=True)\n",
        "            agent.critic.optimizer.step()\n",
        "\n",
        "            # Actor of each agent.\n",
        "            \n",
        "            actor_loss = agent.critic.forward(states, mu).flatten()\n",
        "            actor_loss = -torch.mean(actor_loss)\n",
        "\n",
        "            agent.actor.optimizer.zero_grad()\n",
        "            actor_loss.backward(retain_graph=True)\n",
        "            agent.actor.optimizer.step()\n",
        "\n",
        "            agent.update_network_parameters()"
      ]
    },
    {
      "cell_type": "code",
      "execution_count": null,
      "metadata": {
        "id": "s7-v5MEmZ0Ai"
      },
      "outputs": [],
      "source": [
        ""
      ]
    },
    {
      "cell_type": "markdown",
      "source": [
        "##Call function"
      ],
      "metadata": {
        "id": "jeq7ZYl_l-js"
      }
    },
    {
      "cell_type": "code",
      "source": [
        "from make_env import make_env\n",
        "\n",
        "def list_vector(observation):\n",
        "    state = np.array([])\n",
        "    for obs in observation:\n",
        "        state = np.concatenate([state, obs])\n",
        "    return state\n",
        "\n",
        "if __name__ == '__main__':\n",
        "    env = make_env(sce)\n",
        "    n_agents = env.n\n",
        "    actor_dims = []\n",
        "\n",
        "    print(\"Observatio space shape: \", env.observation_space)\n",
        "    print(\"Action space: \", env.action_space)\n",
        "    print(\"Action space shape: \", env.action_space[0].n)\n",
        "\n",
        "\n",
        "    for i in range(n_agents):\n",
        "        actor_dims.append(env.observation_space[i].shape[0])\n",
        "        print(\"Observatio space shape: \", env.observation_space[i].shape[0])\n",
        "    print(\"Actor dims: \", actor_dims)\n",
        "    critic_dims = sum(actor_dims)\n",
        "\n",
        "    # action space is a list of arrays, assume each agent has same action space\n",
        "    n_actions = env.action_space[0].n\n",
        "    maddpg_agents = MADDPG(actor_dims, critic_dims, n_agents, n_actions,hidden1=64, hidden2=64,alpha=0.01, beta=0.01, scenario= 'simple_adversary')\n",
        "\n",
        "    memory = MultiAgentReplayBuffer(1000000, critic_dims, actor_dims,n_actions, n_agents, batch_size=1024)\n",
        "\n",
        "\n",
        "    total_episodes = 15000\n",
        "    limit = 25\n",
        "    total_steps = 0\n",
        "    reward_values = []\n",
        "    max_reward = 0\n",
        "\n",
        "\n",
        "    for episode in range(1, total_episodes+1):\n",
        "        obs = env.reset()\n",
        "        score = 0\n",
        "        done = [False]*n_agents\n",
        "        timestep = 0\n",
        "        while not any(done):\n",
        "  \n",
        "            actions = maddpg_agents.pick_action(obs)\n",
        "            obs_, reward, done, info = env.step(actions)\n",
        "\n",
        "            state = list_vector(obs)\n",
        "            state_ = list_vector(obs_)\n",
        "\n",
        "            if timestep >= limit:\n",
        "                done = [True]*n_agents\n",
        "\n",
        "            memory.store_transition(obs, state, actions, reward, obs_, state_, done)\n",
        "\n",
        "            if total_steps % 100 == 0:\n",
        "                maddpg_agents.learn(memory)\n",
        "\n",
        "            obs = obs_\n",
        "\n",
        "            score += sum(reward)\n",
        "            total_steps += 1\n",
        "            timestep += 1\n",
        "\n",
        "        #After each episode\n",
        "        reward_values.append(score)\n",
        "        average_reward = np.mean(reward_values[-100:])\n",
        "      \n",
        "        if average_reward > max_reward:\n",
        "            max_reward = average_reward\n",
        "            \n",
        "        if episode % 50 == 0 and episode > 0:\n",
        "            print('episode: {} average score {:.1f}'.format(episode, average_reward))"
      ],
      "metadata": {
        "colab": {
          "base_uri": "https://localhost:8080/"
        },
        "outputId": "aa50d0d6-5591-48ea-a7ce-254f158bdfce",
        "id": "tISxGH8Zl-jt"
      },
      "execution_count": null,
      "outputs": [
        {
          "output_type": "stream",
          "name": "stdout",
          "text": [
            "Observatio space shape:  [Box(8,), Box(10,), Box(10,)]\n",
            "Action space:  [Discrete(5), Discrete(5), Discrete(5)]\n",
            "Action space shape:  5\n",
            "Observatio space shape:  8\n",
            "Observatio space shape:  10\n",
            "Observatio space shape:  10\n",
            "Actor dims:  [8, 10, 10]\n",
            "episode 50 average score -22.7\n",
            "episode 100 average score -68.1\n",
            "episode 150 average score -149.2\n",
            "episode 200 average score -182.9\n",
            "episode 250 average score -193.5\n",
            "episode 300 average score -199.2\n",
            "episode 350 average score -192.5\n",
            "episode 400 average score -195.7\n",
            "episode 450 average score -198.8\n",
            "episode 500 average score -189.0\n",
            "episode 550 average score -177.0\n",
            "episode 600 average score -184.0\n",
            "episode 650 average score -188.2\n",
            "episode 700 average score -186.2\n",
            "episode 750 average score -184.4\n",
            "episode 800 average score -193.5\n",
            "episode 850 average score -192.6\n",
            "episode 900 average score -186.1\n",
            "episode 950 average score -184.6\n",
            "episode 1000 average score -175.1\n",
            "episode 1050 average score -184.8\n",
            "episode 1100 average score -188.7\n",
            "episode 1150 average score -185.1\n",
            "episode 1200 average score -185.1\n",
            "episode 1250 average score -197.0\n",
            "episode 1300 average score -194.7\n",
            "episode 1350 average score -179.6\n",
            "episode 1400 average score -184.3\n",
            "episode 1450 average score -181.9\n",
            "episode 1500 average score -175.0\n",
            "episode 1550 average score -182.4\n",
            "episode 1600 average score -194.3\n",
            "episode 1650 average score -189.3\n",
            "episode 1700 average score -194.7\n",
            "episode 1750 average score -199.4\n",
            "episode 1800 average score -196.4\n",
            "episode 1850 average score -199.8\n",
            "episode 1900 average score -191.2\n",
            "episode 1950 average score -188.5\n",
            "episode 2000 average score -188.4\n",
            "episode 2050 average score -189.1\n",
            "episode 2100 average score -187.0\n",
            "episode 2150 average score -183.7\n",
            "episode 2200 average score -194.0\n",
            "episode 2250 average score -170.8\n",
            "episode 2300 average score -110.3\n",
            "episode 2350 average score -84.5\n",
            "episode 2400 average score -85.8\n",
            "episode 2450 average score -82.5\n",
            "episode 2500 average score -80.9\n",
            "episode 2550 average score -86.6\n",
            "episode 2600 average score -90.8\n",
            "episode 2650 average score -86.9\n",
            "episode 2700 average score -89.0\n",
            "episode 2750 average score -91.2\n",
            "episode 2800 average score -88.4\n",
            "episode 2850 average score -88.9\n",
            "episode 2900 average score -86.5\n",
            "episode 2950 average score -83.5\n",
            "episode 3000 average score -85.1\n",
            "episode 3050 average score -86.7\n",
            "episode 3100 average score -87.3\n",
            "episode 3150 average score -85.9\n",
            "episode 3200 average score -86.6\n",
            "episode 3250 average score -85.7\n",
            "episode 3300 average score -85.4\n",
            "episode 3350 average score -88.2\n",
            "episode 3400 average score -88.7\n",
            "episode 3450 average score -89.7\n",
            "episode 3500 average score -85.2\n",
            "episode 3550 average score -84.0\n",
            "episode 3600 average score -78.1\n",
            "episode 3650 average score -57.5\n",
            "episode 3700 average score -59.5\n",
            "episode 3750 average score -57.4\n",
            "episode 3800 average score -30.0\n",
            "episode 3850 average score -19.3\n",
            "episode 3900 average score -20.4\n",
            "episode 3950 average score -19.1\n",
            "episode 4000 average score -20.2\n",
            "episode 4050 average score -17.7\n",
            "episode 4100 average score -13.7\n",
            "episode 4150 average score -13.9\n",
            "episode 4200 average score -15.5\n",
            "episode 4250 average score -18.4\n",
            "episode 4300 average score -18.4\n",
            "episode 4350 average score -15.7\n",
            "episode 4400 average score -16.2\n",
            "episode 4450 average score -18.5\n",
            "episode 4500 average score -16.4\n",
            "episode 4550 average score -16.0\n",
            "episode 4600 average score -18.1\n",
            "episode 4650 average score -16.3\n",
            "episode 4700 average score -14.8\n",
            "episode 4750 average score -16.0\n",
            "episode 4800 average score -17.0\n",
            "episode 4850 average score -16.1\n",
            "episode 4900 average score -17.4\n",
            "episode 4950 average score -14.5\n",
            "episode 5000 average score -9.3\n",
            "episode 5050 average score -11.9\n",
            "episode 5100 average score -12.7\n",
            "episode 5150 average score -10.9\n",
            "episode 5200 average score -11.9\n",
            "episode 5250 average score -13.1\n",
            "episode 5300 average score -12.5\n",
            "episode 5350 average score -12.6\n",
            "episode 5400 average score -15.2\n",
            "episode 5450 average score -14.9\n",
            "episode 5500 average score -11.4\n",
            "episode 5550 average score -9.8\n",
            "episode 5600 average score -11.7\n",
            "episode 5650 average score -12.3\n",
            "episode 5700 average score -12.3\n",
            "episode 5750 average score -10.6\n",
            "episode 5800 average score -9.7\n",
            "episode 5850 average score -10.6\n",
            "episode 5900 average score -11.3\n",
            "episode 5950 average score -12.2\n",
            "episode 6000 average score -9.6\n",
            "episode 6050 average score -8.1\n",
            "episode 6100 average score -10.3\n",
            "episode 6150 average score -10.8\n",
            "episode 6200 average score -10.4\n",
            "episode 6250 average score -8.9\n",
            "episode 6300 average score -11.7\n",
            "episode 6350 average score -13.7\n",
            "episode 6400 average score -10.8\n",
            "episode 6450 average score -11.5\n",
            "episode 6500 average score -11.6\n",
            "episode 6550 average score -10.9\n",
            "episode 6600 average score -12.6\n",
            "episode 6650 average score -13.2\n",
            "episode 6700 average score -10.8\n",
            "episode 6750 average score -9.8\n",
            "episode 6800 average score -8.9\n",
            "episode 6850 average score -9.3\n",
            "episode 6900 average score -11.1\n",
            "episode 6950 average score -12.2\n",
            "episode 7000 average score -12.5\n",
            "episode 7050 average score -12.0\n",
            "episode 7100 average score -11.7\n",
            "episode 7150 average score -11.5\n",
            "episode 7200 average score -12.1\n",
            "episode 7250 average score -12.2\n",
            "episode 7300 average score -10.0\n",
            "episode 7350 average score -11.4\n",
            "episode 7400 average score -14.0\n",
            "episode 7450 average score -13.2\n",
            "episode 7500 average score -11.3\n",
            "episode 7550 average score -13.1\n",
            "episode 7600 average score -13.8\n",
            "episode 7650 average score -14.1\n",
            "episode 7700 average score -14.4\n",
            "episode 7750 average score -9.1\n",
            "episode 7800 average score -5.9\n",
            "episode 7850 average score -7.8\n",
            "episode 7900 average score -12.8\n",
            "episode 7950 average score -13.4\n",
            "episode 8000 average score -9.2\n",
            "episode 8050 average score -9.0\n",
            "episode 8100 average score -12.9\n",
            "episode 8150 average score -13.3\n",
            "episode 8200 average score -11.7\n",
            "episode 8250 average score -10.6\n",
            "episode 8300 average score -10.2\n",
            "episode 8350 average score -8.5\n",
            "episode 8400 average score -6.0\n",
            "episode 8450 average score -6.0\n",
            "episode 8500 average score -7.7\n",
            "episode 8550 average score -9.6\n",
            "episode 8600 average score -9.6\n",
            "episode 8650 average score -10.0\n",
            "episode 8700 average score -9.7\n",
            "episode 8750 average score -12.1\n",
            "episode 8800 average score -11.4\n",
            "episode 8850 average score -5.7\n",
            "episode 8900 average score -7.9\n",
            "episode 8950 average score -9.5\n",
            "episode 9000 average score -9.6\n",
            "episode 9050 average score -11.3\n",
            "episode 9100 average score -6.9\n",
            "episode 9150 average score -1.1\n",
            "episode 9200 average score 0.8\n",
            "episode 9250 average score -0.8\n",
            "episode 9300 average score -1.2\n",
            "episode 9350 average score 0.0\n",
            "episode 9400 average score -0.2\n",
            "episode 9450 average score 1.6\n",
            "episode 9500 average score 1.6\n",
            "episode 9550 average score 0.9\n",
            "episode 9600 average score 0.3\n",
            "episode 9650 average score -1.6\n",
            "episode 9700 average score -1.5\n",
            "episode 9750 average score -0.8\n",
            "episode 9800 average score -0.8\n",
            "episode 9850 average score 0.3\n",
            "episode 9900 average score 1.2\n",
            "episode 9950 average score 1.4\n",
            "episode 10000 average score 2.3\n",
            "episode 10050 average score 2.6\n",
            "episode 10100 average score 1.6\n",
            "episode 10150 average score 1.4\n",
            "episode 10200 average score 1.3\n",
            "episode 10250 average score 1.3\n",
            "episode 10300 average score 1.8\n",
            "episode 10350 average score 2.2\n",
            "episode 10400 average score 2.4\n",
            "episode 10450 average score 1.2\n",
            "episode 10500 average score 0.9\n",
            "episode 10550 average score 2.0\n",
            "episode 10600 average score 1.8\n",
            "episode 10650 average score 0.6\n",
            "episode 10700 average score 0.9\n",
            "episode 10750 average score 1.7\n",
            "episode 10800 average score 0.7\n",
            "episode 10850 average score -0.2\n",
            "episode 10900 average score 1.9\n",
            "episode 10950 average score 2.0\n",
            "episode 11000 average score 0.2\n",
            "episode 11050 average score 1.0\n",
            "episode 11100 average score 1.8\n",
            "episode 11150 average score 0.2\n",
            "episode 11200 average score -0.1\n",
            "episode 11250 average score 0.8\n",
            "episode 11300 average score -0.1\n",
            "episode 11350 average score -0.3\n",
            "episode 11400 average score 0.7\n",
            "episode 11450 average score 0.7\n",
            "episode 11500 average score -0.4\n",
            "episode 11550 average score 0.4\n",
            "episode 11600 average score 1.6\n",
            "episode 11650 average score 1.6\n",
            "episode 11700 average score 1.1\n",
            "episode 11750 average score 1.5\n",
            "episode 11800 average score -0.1\n",
            "episode 11850 average score -1.7\n",
            "episode 11900 average score -0.5\n",
            "episode 11950 average score -0.7\n",
            "episode 12000 average score -0.6\n",
            "episode 12050 average score 0.6\n",
            "episode 12100 average score -0.3\n",
            "episode 12150 average score -0.6\n",
            "episode 12200 average score -0.1\n",
            "episode 12250 average score 0.8\n",
            "episode 12300 average score 1.4\n",
            "episode 12350 average score 1.3\n",
            "episode 12400 average score -0.2\n",
            "episode 12450 average score 0.5\n",
            "episode 12500 average score 1.1\n",
            "episode 12550 average score 0.7\n",
            "episode 12600 average score 1.2\n",
            "episode 12650 average score 0.9\n",
            "episode 12700 average score 1.3\n",
            "episode 12750 average score 0.8\n",
            "episode 12800 average score 0.9\n",
            "episode 12850 average score 1.2\n",
            "episode 12900 average score -0.0\n",
            "episode 12950 average score -1.1\n",
            "episode 13000 average score -1.0\n",
            "episode 13050 average score -0.5\n",
            "episode 13100 average score -0.5\n",
            "episode 13150 average score -1.1\n",
            "episode 13200 average score -0.6\n",
            "episode 13250 average score 0.2\n",
            "episode 13300 average score -0.1\n",
            "episode 13350 average score 0.0\n",
            "episode 13400 average score 0.7\n",
            "episode 13450 average score 0.1\n",
            "episode 13500 average score -0.6\n",
            "episode 13550 average score -0.2\n",
            "episode 13600 average score 0.4\n",
            "episode 13650 average score -0.3\n",
            "episode 13700 average score -0.7\n",
            "episode 13750 average score 0.2\n",
            "episode 13800 average score -0.6\n",
            "episode 13850 average score -1.0\n",
            "episode 13900 average score 0.3\n",
            "episode 13950 average score 0.0\n",
            "episode 14000 average score -1.3\n",
            "episode 14050 average score -0.9\n",
            "episode 14100 average score -0.2\n",
            "episode 14150 average score -0.6\n",
            "episode 14200 average score -1.0\n",
            "episode 14250 average score -1.4\n",
            "episode 14300 average score -1.1\n",
            "episode 14350 average score -0.4\n",
            "episode 14400 average score -0.3\n",
            "episode 14450 average score -1.3\n",
            "episode 14500 average score -1.4\n",
            "episode 14550 average score 0.1\n",
            "episode 14600 average score 0.5\n",
            "episode 14650 average score 0.0\n",
            "episode 14700 average score -0.4\n",
            "episode 14750 average score -0.2\n",
            "episode 14800 average score 0.1\n",
            "episode 14850 average score -1.0\n",
            "episode 14900 average score -0.5\n",
            "episode 14950 average score -0.8\n",
            "episode 15000 average score -1.2\n"
          ]
        }
      ]
    },
    {
      "cell_type": "code",
      "source": [
        "x = [episode for episode in range(15000)]\n",
        "yr = reward_values\n",
        "plt.plot(x,yr)\n",
        "plt.xlabel('Episodes')\n",
        "plt.ylabel('Rewards')\n",
        "plt.title('MADDPG on Simple Adversary')"
      ],
      "metadata": {
        "colab": {
          "base_uri": "https://localhost:8080/",
          "height": 312
        },
        "outputId": "6af37ba9-9e2a-407a-e0ba-2f1cd0a1305b",
        "id": "A1CyklIol-jt"
      },
      "execution_count": null,
      "outputs": [
        {
          "output_type": "execute_result",
          "data": {
            "text/plain": [
              "Text(0.5, 1.0, 'MADDPG on Simple Adversary')"
            ]
          },
          "metadata": {},
          "execution_count": 11
        },
        {
          "output_type": "display_data",
          "data": {
            "text/plain": [
              "<Figure size 432x288 with 1 Axes>"
            ],
            "image/png": "[encoded data removed]"
          },
          "metadata": {
            "needs_background": "light"
          }
        }
      ]
    }
  ]
}